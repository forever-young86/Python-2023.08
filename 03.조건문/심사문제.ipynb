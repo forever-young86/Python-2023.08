{
 "cells": [
  {
   "cell_type": "code",
   "execution_count": 23,
   "metadata": {},
   "outputs": [
    {
     "name": "stdout",
     "output_type": "stream",
     "text": [
      "True\n"
     ]
    }
   ],
   "source": [
    "#u8\n",
    "k, e, m, s = list(map(int, input().split()))\n",
    "if k >=90 and e >80 and m >85 and s >=80:\n",
    "    print('True')\n",
    "else:\n",
    "    print('Flase')"
   ]
  },
  {
   "cell_type": "code",
   "execution_count": 20,
   "metadata": {},
   "outputs": [
    {
     "name": "stdout",
     "output_type": "stream",
     "text": [
      "'Python' is a \"programming language\" \n",
      "that lets you work quickly\n",
      "and\n",
      "integrate systems more effectively.\n"
     ]
    }
   ],
   "source": [
    "#9\n",
    "s = \"\"\"'Python' is a \\\"programming language\\\" \n",
    "that lets you work quickly\n",
    "and\n",
    "integrate systems more effectively.\"\"\"\n",
    "print(s)"
   ]
  },
  {
   "cell_type": "code",
   "execution_count": 51,
   "metadata": {},
   "outputs": [],
   "source": [
    "#13\n",
    "p = input()\n",
    "c = input()\n",
    "if c.find('Cash3000') >=0:\n",
    "    print(int(p) - int(3000))\n",
    "if c.find('Cash5000') >=0:\n",
    "    print(int(p) - int(5000))\n"
   ]
  },
  {
   "cell_type": "code",
   "execution_count": 124,
   "metadata": {},
   "outputs": [
    {
     "name": "stdout",
     "output_type": "stream",
     "text": [
      "잘못된 점수\n"
     ]
    }
   ],
   "source": [
    "#14\n",
    "k, e, m, s = map(int,input().split())\n",
    "if 0 < k <= 100 and 0 < e <= 100 and 0 < m <= 100 and 0 < s <=100:\n",
    "    if (k + e + m + s )/ 4 >=80:\n",
    "        print('합격')\n",
    "    else:\n",
    "        print('불합격')\n",
    "else:\n",
    "    print('잘못된 점수')"
   ]
  },
  {
   "cell_type": "code",
   "execution_count": 131,
   "metadata": {},
   "outputs": [
    {
     "name": "stdout",
     "output_type": "stream",
     "text": [
      "8350\n"
     ]
    }
   ],
   "source": [
    "#15\n",
    "age = int (input())\n",
    "balance = 9000 #교통카드 잔액\n",
    "if 7 <= age <= 12: \n",
    "    print(balance - 650)\n",
    "elif 13<= age <= 18:\n",
    "    print(balance - 1050)\n",
    "else:\n",
    "    print(balance - 1250)\n"
   ]
  },
  {
   "cell_type": "code",
   "execution_count": null,
   "metadata": {},
   "outputs": [],
   "source": [
    "#2480\n",
    "dice1, dice2, dice3=map(int,input().split())\n",
    "#a = dice1 == dice2 == dice3 #3개가 동일할때\n",
    "#b = dice1 == dice2 or dice2 == dice3 or dice1 == dice3 #2개가 동일할때\n",
    "num = dice1 == dice2 == dice3\n",
    "max_num =\n",
    "if dice1 == dice2 == dice3:\n",
    "    10000+(num)*1000\n",
    "elif dice1 == dice2 or dice2 == dice3 or dice1 == dice3:\n",
    "    1000+(num)*100\n",
    "else:\n",
    "    (max_num)*100\n"
   ]
  },
  {
   "cell_type": "code",
   "execution_count": 136,
   "metadata": {},
   "outputs": [
    {
     "ename": "ValueError",
     "evalue": "invalid literal for int() with base 10: ''",
     "output_type": "error",
     "traceback": [
      "\u001b[1;31m---------------------------------------------------------------------------\u001b[0m",
      "\u001b[1;31mValueError\u001b[0m                                Traceback (most recent call last)",
      "Cell \u001b[1;32mIn[136], line 2\u001b[0m\n\u001b[0;32m      1\u001b[0m \u001b[39m#14681\u001b[39;00m\n\u001b[1;32m----> 2\u001b[0m x \u001b[39m=\u001b[39m \u001b[39mint\u001b[39m(\u001b[39minput\u001b[39m())\n\u001b[0;32m      3\u001b[0m y \u001b[39m=\u001b[39m \u001b[39mint\u001b[39m(\u001b[39minput\u001b[39m())\n\u001b[0;32m      5\u001b[0m \u001b[39mif\u001b[39;00m \u001b[39m-\u001b[39m\u001b[39m1000\u001b[39m \u001b[39m<\u001b[39m\u001b[39m=\u001b[39m x \u001b[39m<\u001b[39m\u001b[39m0\u001b[39m \u001b[39mand\u001b[39;00m \u001b[39m-\u001b[39m\u001b[39m1000\u001b[39m \u001b[39m<\u001b[39m\u001b[39m=\u001b[39m y \u001b[39m<\u001b[39m\u001b[39m0\u001b[39m :\n",
      "\u001b[1;31mValueError\u001b[0m: invalid literal for int() with base 10: ''"
     ]
    }
   ],
   "source": [
    "#14681\n",
    "x = int(input())\n",
    "y = int(input())\n",
    "\n",
    "if -1000 <= x <0 and -1000 <= y <0 :\n",
    "    print(3)\n",
    "if 1000 >= x >0 and -1000 <= y <0:\n",
    "    print(4)\n",
    "if  0 < x <= 1000 and -1000 >= y <0:\n",
    "    print(1)\n",
    "if -1000 <= x <0 and 1000 >= y <0:\n",
    "    print(2)"
   ]
  },
  {
   "cell_type": "code",
   "execution_count": null,
   "metadata": {},
   "outputs": [],
   "source": []
  }
 ],
 "metadata": {
  "kernelspec": {
   "display_name": "base",
   "language": "python",
   "name": "python3"
  },
  "language_info": {
   "codemirror_mode": {
    "name": "ipython",
    "version": 3
   },
   "file_extension": ".py",
   "mimetype": "text/x-python",
   "name": "python",
   "nbconvert_exporter": "python",
   "pygments_lexer": "ipython3",
   "version": "3.11.4"
  },
  "orig_nbformat": 4
 },
 "nbformat": 4,
 "nbformat_minor": 2
}
