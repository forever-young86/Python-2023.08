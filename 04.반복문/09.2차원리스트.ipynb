{
 "cells": [
  {
   "cell_type": "markdown",
   "metadata": {},
   "source": [
    "### 4.9 2차원 리스트"
   ]
  },
  {
   "cell_type": "code",
   "execution_count": 1,
   "metadata": {},
   "outputs": [
    {
     "data": {
      "text/plain": [
       "[[10, 20], [30, 40], [50, 60]]"
      ]
     },
     "execution_count": 1,
     "metadata": {},
     "output_type": "execute_result"
    }
   ],
   "source": [
    "a = [[10,20],[30,40],[50,60]]\n",
    "a"
   ]
  },
  {
   "cell_type": "code",
   "execution_count": 3,
   "metadata": {},
   "outputs": [
    {
     "name": "stdout",
     "output_type": "stream",
     "text": [
      "[[10, 20],\n",
      " [30, 40],\n",
      " [50, 60]]\n"
     ]
    }
   ],
   "source": [
    "from pprint import pprint\n",
    "pprint(a, width=20)"
   ]
  },
  {
   "cell_type": "code",
   "execution_count": 4,
   "metadata": {},
   "outputs": [
    {
     "data": {
      "text/plain": [
       "array([[10, 20],\n",
       "       [30, 40],\n",
       "       [50, 60]])"
      ]
     },
     "execution_count": 4,
     "metadata": {},
     "output_type": "execute_result"
    }
   ],
   "source": [
    "import numpy as np\n",
    "b = np.arange(10, 61, 10).reshape(3, 2)     #행이 3, 열이 2\n",
    "b"
   ]
  },
  {
   "cell_type": "code",
   "execution_count": 9,
   "metadata": {},
   "outputs": [
    {
     "data": {
      "text/html": [
       "<div>\n",
       "<style scoped>\n",
       "    .dataframe tbody tr th:only-of-type {\n",
       "        vertical-align: middle;\n",
       "    }\n",
       "\n",
       "    .dataframe tbody tr th {\n",
       "        vertical-align: top;\n",
       "    }\n",
       "\n",
       "    .dataframe thead th {\n",
       "        text-align: right;\n",
       "    }\n",
       "</style>\n",
       "<table border=\"1\" class=\"dataframe\">\n",
       "  <thead>\n",
       "    <tr style=\"text-align: right;\">\n",
       "      <th></th>\n",
       "      <th>first</th>\n",
       "      <th>second</th>\n",
       "    </tr>\n",
       "  </thead>\n",
       "  <tbody>\n",
       "    <tr>\n",
       "      <th>0</th>\n",
       "      <td>10</td>\n",
       "      <td>20</td>\n",
       "    </tr>\n",
       "    <tr>\n",
       "      <th>1</th>\n",
       "      <td>30</td>\n",
       "      <td>40</td>\n",
       "    </tr>\n",
       "    <tr>\n",
       "      <th>2</th>\n",
       "      <td>50</td>\n",
       "      <td>60</td>\n",
       "    </tr>\n",
       "  </tbody>\n",
       "</table>\n",
       "</div>"
      ],
      "text/plain": [
       "   first  second\n",
       "0     10      20\n",
       "1     30      40\n",
       "2     50      60"
      ]
     },
     "execution_count": 9,
     "metadata": {},
     "output_type": "execute_result"
    }
   ],
   "source": [
    "import pandas as pd\n",
    "df= pd.DataFrame(b, columns=['first','second'])\n",
    "df"
   ]
  },
  {
   "cell_type": "markdown",
   "metadata": {},
   "source": [
    "- 인덱싱"
   ]
  },
  {
   "cell_type": "code",
   "execution_count": 8,
   "metadata": {},
   "outputs": [
    {
     "data": {
      "text/plain": [
       "(30, 30)"
      ]
     },
     "execution_count": 8,
     "metadata": {},
     "output_type": "execute_result"
    }
   ],
   "source": [
    "# 30\n",
    "a[1][0], b[1,0], df['first'][1]    #numpy b 는 ,로 표현 가능"
   ]
  },
  {
   "cell_type": "markdown",
   "metadata": {},
   "source": [
    "- 2차원 리스트의 반복문"
   ]
  },
  {
   "cell_type": "code",
   "execution_count": 10,
   "metadata": {},
   "outputs": [
    {
     "name": "stdout",
     "output_type": "stream",
     "text": [
      "[10, 20]\n",
      "[30, 40]\n",
      "[50, 60]\n"
     ]
    }
   ],
   "source": [
    "for row in a:\n",
    "    print(row)"
   ]
  },
  {
   "cell_type": "code",
   "execution_count": 11,
   "metadata": {},
   "outputs": [
    {
     "data": {
      "text/plain": [
       "3"
      ]
     },
     "execution_count": 11,
     "metadata": {},
     "output_type": "execute_result"
    }
   ],
   "source": [
    "len(a)"
   ]
  },
  {
   "cell_type": "code",
   "execution_count": 12,
   "metadata": {},
   "outputs": [
    {
     "data": {
      "text/plain": [
       "[10, 20]"
      ]
     },
     "execution_count": 12,
     "metadata": {},
     "output_type": "execute_result"
    }
   ],
   "source": [
    "a[0]"
   ]
  },
  {
   "cell_type": "markdown",
   "metadata": {},
   "source": [
    "- 반복문으로 2차원 리스트 만들기"
   ]
  },
  {
   "cell_type": "code",
   "execution_count": 13,
   "metadata": {},
   "outputs": [
    {
     "name": "stdout",
     "output_type": "stream",
     "text": [
      "[[6, 2, 6, 5],\n",
      " [5, 4, 6, 5],\n",
      " [6, 5, 5, 6]]\n"
     ]
    }
   ],
   "source": [
    "# 주사위를 던져서 나오는 눈으로 만든 3 x 4 리스트 행(바깥쪽):3,열(안쪽):4\n",
    "import random\n",
    "outer_list = []         #for문 들어가기전에 리스트를 만들기\n",
    "for i in range(3):      #바깥(행)에 3개 만듬\n",
    "    inner_list = []     #for문 들어가기전에 리스트를 만들기\n",
    "    for k in range(4):  #안(열)에 주사위수 눈으로 4개 만듬\n",
    "        inner_list.append(random.randint(1,6))\n",
    "    outer_list.append(inner_list)   #밖에 안을 넣어줌\n",
    "pprint(outer_list, width=20)\n"
   ]
  },
  {
   "cell_type": "code",
   "execution_count": 37,
   "metadata": {},
   "outputs": [
    {
     "name": "stdout",
     "output_type": "stream",
     "text": [
      "[['.', '*', '.', '*', '.', '.', '.', '*'],\n",
      " ['*', '.', '.', '.', '.', '.', '.', '.'],\n",
      " ['*', '*', '.', '*', '.', '.', '.', '*'],\n",
      " ['.', '*', '.', '.', '*', '*', '*', '*'],\n",
      " ['*', '.', '*', '.', '*', '.', '.', '*'],\n",
      " ['*', '*', '*', '*', '*', '.', '.', '.'],\n",
      " ['*', '.', '*', '*', '.', '.', '.', '*'],\n",
      " ['.', '.', '.', '.', '.', '*', '.', '.']]\n"
     ]
    }
   ],
   "source": [
    "import random\n",
    "mines = []\n",
    "for _ in range(8):      # i가 쓰이지 않을때 _씀\n",
    "    row = []\n",
    "    for _ in range(8):  #row 에 들어갈 조건을 넣는다\n",
    "        if random.random() > 0.7:\n",
    "            row.append('*')\n",
    "        else:\n",
    "            row.append('.')\n",
    "    mines.append(row)\n",
    "pprint(mines, width=80)"
   ]
  },
  {
   "cell_type": "markdown",
   "metadata": {},
   "source": [
    "- 표현식"
   ]
  },
  {
   "cell_type": "code",
   "execution_count": 28,
   "metadata": {},
   "outputs": [
    {
     "name": "stdout",
     "output_type": "stream",
     "text": [
      "[[5, 6, 2, 3],\n",
      " [1, 2, 4, 4],\n",
      " [6, 1, 2, 1]]\n"
     ]
    }
   ],
   "source": [
    "outer_list = []        \n",
    "for i in range(3):      \n",
    "    inner_list = [random.randint(1,6) for k in range(4)]    \n",
    "    outer_list.append(inner_list)\n",
    "pprint(outer_list, width=20)"
   ]
  },
  {
   "cell_type": "code",
   "execution_count": 31,
   "metadata": {},
   "outputs": [
    {
     "name": "stdout",
     "output_type": "stream",
     "text": [
      "[[3, 5, 2, 2],\n",
      " [5, 2, 2, 6],\n",
      " [6, 3, 1, 2]]\n"
     ]
    }
   ],
   "source": [
    "outer_list = [[random.randint(1,6) for _ in range(4)] for _ in range(3)]    #안쪽을 표현식으로 먼저 바꾸고 바깥쪽을 바꿔 넣는다\n",
    "pprint(outer_list, width=20)"
   ]
  },
  {
   "cell_type": "code",
   "execution_count": 33,
   "metadata": {},
   "outputs": [
    {
     "name": "stdout",
     "output_type": "stream",
     "text": [
      "[['.', '.', '*', '*', '.', '.', '.', '*'],\n",
      " ['*', '.', '.', '.', '*', '*', '.', '.'],\n",
      " ['.', '*', '.', '.', '*', '.', '*', '.'],\n",
      " ['.', '*', '.', '.', '.', '.', '*', '*'],\n",
      " ['*', '*', '.', '.', '*', '.', '.', '*'],\n",
      " ['.', '.', '.', '.', '.', '.', '.', '.'],\n",
      " ['.', '*', '.', '.', '.', '.', '.', '*'],\n",
      " ['*', '.', '.', '*', '*', '.', '.', '.']]\n"
     ]
    }
   ],
   "source": [
    "mines = []\n",
    "for _ in range(8):\n",
    "    row = ['*' if random.random() > 0.7 else '.' for _ in range(8)]\n",
    "    mines.append(row)\n",
    "pprint(mines, width=80)"
   ]
  },
  {
   "cell_type": "code",
   "execution_count": 34,
   "metadata": {},
   "outputs": [
    {
     "name": "stdout",
     "output_type": "stream",
     "text": [
      "[['.', '.', '.', '*', '*', '*', '.', '.'],\n",
      " ['*', '.', '.', '.', '*', '.', '.', '*'],\n",
      " ['*', '*', '*', '*', '*', '.', '.', '.'],\n",
      " ['.', '.', '.', '.', '.', '.', '.', '.'],\n",
      " ['.', '.', '.', '.', '.', '*', '.', '.'],\n",
      " ['.', '.', '.', '*', '*', '.', '.', '.'],\n",
      " ['.', '.', '.', '.', '.', '*', '*', '.'],\n",
      " ['*', '.', '.', '*', '.', '.', '.', '*']]\n"
     ]
    }
   ],
   "source": [
    "mines = [['*' if random.random() > 0.7 else '.' for _ in range(8)]for _ in range(8)]\n",
    "pprint(mines, width=80)"
   ]
  },
  {
   "cell_type": "code",
   "execution_count": 36,
   "metadata": {},
   "outputs": [
    {
     "name": "stdout",
     "output_type": "stream",
     "text": [
      ". . . * * * . . \n",
      "* . . . * . . * \n",
      "* * * * * . . . \n",
      ". . . . . . . . \n",
      ". . . . . * . . \n",
      ". . . * * . . . \n",
      ". . . . . * * . \n",
      "* . . * . . . * \n"
     ]
    }
   ],
   "source": [
    "for row in mines:\n",
    "    for elem in row:\n",
    "        print(elem, end=' ')\n",
    "    print()"
   ]
  },
  {
   "cell_type": "code",
   "execution_count": 56,
   "metadata": {},
   "outputs": [
    {
     "name": "stdout",
     "output_type": "stream",
     "text": [
      ". . . . . . . . . . \n",
      ". . * . * . . . * . \n",
      ". * . . . . . . . . \n",
      ". * * . * . . . * . \n",
      ". . * . . * * * * . \n",
      ". * . * . * . . * . \n",
      ". * * * * * . . . . \n",
      ". * . * * . . . * . \n",
      ". . . . . . * . . . \n",
      ". . . . . . . . . . \n"
     ]
    }
   ],
   "source": [
    "# mines --> pad_mines 으로 변환\n",
    "# 윗줄\n",
    "# 가운데 8줄\n",
    "# 밑줄\n",
    "\n",
    "pad_mines = []\n",
    "top_line = ['.']*10\n",
    "pad_mines.append(top_line)  #윗줄 완성\n",
    "for row in mines:           #원래 있던 mines\n",
    "    pad_row =['.']\n",
    "    # for element in row:\n",
    "    #     pad_row.append(element)\n",
    "    pad_row.extend(row)     #위에 두줄대신 사용가능\n",
    "    pad_row.append('.')     \n",
    "    pad_mines.append(pad_row)   #가운데 8줄 완성\n",
    "pad_mines.append(top_line)\n",
    "\n",
    "for row in pad_mines:\n",
    "    for elem in row:\n",
    "        print(elem, end=' ')\n",
    "    print()"
   ]
  },
  {
   "cell_type": "code",
   "execution_count": null,
   "metadata": {},
   "outputs": [],
   "source": []
  }
 ],
 "metadata": {
  "kernelspec": {
   "display_name": "base",
   "language": "python",
   "name": "python3"
  },
  "language_info": {
   "codemirror_mode": {
    "name": "ipython",
    "version": 3
   },
   "file_extension": ".py",
   "mimetype": "text/x-python",
   "name": "python",
   "nbconvert_exporter": "python",
   "pygments_lexer": "ipython3",
   "version": "3.11.4"
  },
  "orig_nbformat": 4
 },
 "nbformat": 4,
 "nbformat_minor": 2
}
