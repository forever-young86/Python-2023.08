{
  "nbformat": 4,
  "nbformat_minor": 0,
  "metadata": {
    "colab": {
      "provenance": [],
      "toc_visible": true
    },
    "kernelspec": {
      "name": "python3",
      "display_name": "Python 3"
    },
    "language_info": {
      "name": "python"
    }
  },
  "cells": [
    {
      "cell_type": "markdown",
      "source": [
        "# 파이썬 시작하기"
      ],
      "metadata": {
        "id": "EdQtzRE2jQ3T"
      }
    },
    {
      "cell_type": "code",
      "source": [
        "# 2023년 8월 현재 Colab에 설치되어 있는 파이썬 버전 확인\n",
        "!python --version"
      ],
      "metadata": {
        "colab": {
          "base_uri": "https://localhost:8080/"
        },
        "id": "sdG3q7S09RfS",
        "outputId": "e9b887a6-16c8-4671-9ddb-090a123de845"
      },
      "execution_count": 11,
      "outputs": [
        {
          "output_type": "stream",
          "name": "stdout",
          "text": [
            "Python 3.10.12\n"
          ]
        }
      ]
    },
    {
      "cell_type": "markdown",
      "source": [
        "### 1. 세미콜론(;)"
      ],
      "metadata": {
        "id": "hc7SQZIZjy3H"
      }
    },
    {
      "cell_type": "code",
      "execution_count": 1,
      "metadata": {
        "colab": {
          "base_uri": "https://localhost:8080/"
        },
        "id": "xTDOtI3piVKP",
        "outputId": "76571dba-37e2-466a-fe86-8cd8f7a07c50"
      },
      "outputs": [
        {
          "output_type": "stream",
          "name": "stdout",
          "text": [
            "Hello\n"
          ]
        }
      ],
      "source": [
        "# 문장 끝에 세미콜론(;)을 붙이지 않는다.\n",
        "print('Hello')"
      ]
    },
    {
      "cell_type": "code",
      "source": [
        "# 한 줄에 여러 문장을 사용할 경우에는 세미콜론을 사용함\n",
        "print('Hello'); print('World')"
      ],
      "metadata": {
        "colab": {
          "base_uri": "https://localhost:8080/"
        },
        "id": "bfT9Lt8YkGEB",
        "outputId": "3daf6b70-1f54-4713-c61e-4bade6ff45c1"
      },
      "execution_count": 2,
      "outputs": [
        {
          "output_type": "stream",
          "name": "stdout",
          "text": [
            "Hello\n",
            "World\n"
          ]
        }
      ]
    },
    {
      "cell_type": "markdown",
      "source": [
        "**### 2. 주석(Comment)**"
      ],
      "metadata": {
        "id": "JklzZqyhkz1H"
      }
    },
    {
      "cell_type": "code",
      "source": [
        "# 한 줄짜리 주석\n",
        "print('Hello')  #문장 뒤에 사용하는 주석"
      ],
      "metadata": {
        "colab": {
          "base_uri": "https://localhost:8080/"
        },
        "id": "-n3h_1Ilk5if",
        "outputId": "7a1a6f47-dcf7-4f22-da5f-dbd652fd570b"
      },
      "execution_count": 3,
      "outputs": [
        {
          "output_type": "stream",
          "name": "stdout",
          "text": [
            "Hello\n"
          ]
        }
      ]
    },
    {
      "cell_type": "code",
      "source": [
        "# 여러줄의 주석\n",
        "# 여러줄의 주석\n",
        "'''\n",
        "원래는 멀티 라인 문자열로 사용됨 => 변수에서 할당되면 문자열로도 사용된다~\n",
        "주석으로도 사용 가능\n",
        "'''"
      ],
      "metadata": {
        "colab": {
          "base_uri": "https://localhost:8080/",
          "height": 35
        },
        "id": "XV7vZcFQlGrJ",
        "outputId": "aab77826-b9d7-4d2e-ba5a-e198586ef43a"
      },
      "execution_count": 4,
      "outputs": [
        {
          "output_type": "execute_result",
          "data": {
            "text/plain": [
              "'\\n원래는 멀티 라인 문자열로 사용됨 => 변수에서 할당되면 문자열로도 사용된다~\\n주석으로도 사용 가능\\n'"
            ],
            "application/vnd.google.colaboratory.intrinsic+json": {
              "type": "string"
            }
          },
          "metadata": {},
          "execution_count": 4
        }
      ]
    },
    {
      "cell_type": "code",
      "source": [
        "# \"\"\" \"\"\" 도 ''' ''' 과 동일하게 사용됨"
      ],
      "metadata": {
        "id": "LrHyQx_4lmoQ"
      },
      "execution_count": 5,
      "outputs": []
    },
    {
      "cell_type": "markdown",
      "source": [
        "# 3. 들여쓰기 (Indentation)"
      ],
      "metadata": {
        "id": "MjTA-V9umlkX"
      }
    },
    {
      "cell_type": "code",
      "source": [
        "num = 3\n",
        "if num % 2 == 1:\n",
        "    print('홀수')"
      ],
      "metadata": {
        "colab": {
          "base_uri": "https://localhost:8080/"
        },
        "id": "zXhOHTp4mV2H",
        "outputId": "960798a2-15bc-44f7-a19c-54e907979e12"
      },
      "execution_count": 8,
      "outputs": [
        {
          "output_type": "stream",
          "name": "stdout",
          "text": [
            "홀수\n"
          ]
        }
      ]
    },
    {
      "cell_type": "code",
      "source": [
        "sum = 0\n",
        "for i in range(1, 11):\n",
        "  sum += i\n",
        "  print('for loop 이 돌 때 마다 찍힘: ', sum)\n",
        "print('for loop이 끝난 후 찍힘: ', sum)"
      ],
      "metadata": {
        "colab": {
          "base_uri": "https://localhost:8080/"
        },
        "id": "_zOpR6JBnKYA",
        "outputId": "57025587-8463-4000-df8c-c7a7f29053cf"
      },
      "execution_count": 9,
      "outputs": [
        {
          "output_type": "stream",
          "name": "stdout",
          "text": [
            "for loop 이 돌 때 마다 찍힘:  1\n",
            "for loop 이 돌 때 마다 찍힘:  3\n",
            "for loop 이 돌 때 마다 찍힘:  6\n",
            "for loop 이 돌 때 마다 찍힘:  10\n",
            "for loop 이 돌 때 마다 찍힘:  15\n",
            "for loop 이 돌 때 마다 찍힘:  21\n",
            "for loop 이 돌 때 마다 찍힘:  28\n",
            "for loop 이 돌 때 마다 찍힘:  36\n",
            "for loop 이 돌 때 마다 찍힘:  45\n",
            "for loop 이 돌 때 마다 찍힘:  55\n",
            "for loop이 끝난 후 찍힘:  55\n"
          ]
        }
      ]
    },
    {
      "cell_type": "markdown",
      "source": [
        "# 4. 코드 블록"
      ],
      "metadata": {
        "id": "KMDXYc3VsHkR"
      }
    },
    {
      "cell_type": "code",
      "source": [
        "# 콜론 (:) 과 이후 들여쓰기로 코드 블록이 결정됨\n",
        "if sum % 2 == 1:\n",
        "  print(sum)\n",
        "  print('홀수입니다.')"
      ],
      "metadata": {
        "colab": {
          "base_uri": "https://localhost:8080/"
        },
        "id": "-yQgwWGzrFOw",
        "outputId": "afa62de5-a9b8-4ce7-ba54-127c0c008f1d"
      },
      "execution_count": 10,
      "outputs": [
        {
          "output_type": "stream",
          "name": "stdout",
          "text": [
            "55\n",
            "홀수입니다.\n"
          ]
        }
      ]
    },
    {
      "cell_type": "code",
      "source": [],
      "metadata": {
        "id": "1Re7I9GgskTA"
      },
      "execution_count": null,
      "outputs": []
    }
  ]
}