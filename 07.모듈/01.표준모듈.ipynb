{
 "cells": [
  {
   "cell_type": "markdown",
   "metadata": {},
   "source": [
    "## 7. 모듈"
   ]
  },
  {
   "cell_type": "markdown",
   "metadata": {},
   "source": [
    "### 7.1 표준 모듈"
   ]
  },
  {
   "cell_type": "markdown",
   "metadata": {},
   "source": [
    "- math 모듈"
   ]
  },
  {
   "cell_type": "code",
   "execution_count": 1,
   "metadata": {},
   "outputs": [
    {
     "data": {
      "text/plain": [
       "3.141592653589793"
      ]
     },
     "execution_count": 1,
     "metadata": {},
     "output_type": "execute_result"
    }
   ],
   "source": [
    "import math\n",
    "math.pi"
   ]
  },
  {
   "cell_type": "code",
   "execution_count": 2,
   "metadata": {},
   "outputs": [
    {
     "data": {
      "text/plain": [
       "(1.0, 6.123233995736766e-17)"
      ]
     },
     "execution_count": 2,
     "metadata": {},
     "output_type": "execute_result"
    }
   ],
   "source": [
    "# 90도일때 (pi/2) 사인, 코사인의 값\n",
    "math.sin(math.pi/2), math.cos(math.pi/2)"
   ]
  },
  {
   "cell_type": "code",
   "execution_count": 4,
   "metadata": {},
   "outputs": [
    {
     "data": {
      "text/plain": [
       "(1.0, 6.123233995736766e-17)"
      ]
     },
     "execution_count": 4,
     "metadata": {},
     "output_type": "execute_result"
    }
   ],
   "source": [
    "from math import sin, cos, pi\n",
    "sin(pi/2), cos(pi/2)"
   ]
  },
  {
   "cell_type": "code",
   "execution_count": 5,
   "metadata": {},
   "outputs": [
    {
     "data": {
      "text/plain": [
       "(1.0, 6.123233995736766e-17)"
      ]
     },
     "execution_count": 5,
     "metadata": {},
     "output_type": "execute_result"
    }
   ],
   "source": [
    "import math as m\n",
    "m.sin(m.pi/2), m.cos(m.pi/2)"
   ]
  },
  {
   "cell_type": "markdown",
   "metadata": {},
   "source": [
    "- random 모듈"
   ]
  },
  {
   "cell_type": "code",
   "execution_count": 6,
   "metadata": {},
   "outputs": [
    {
     "data": {
      "text/plain": [
       "(0.34308457346990884, 1)"
      ]
     },
     "execution_count": 6,
     "metadata": {},
     "output_type": "execute_result"
    }
   ],
   "source": [
    "import random as rd\n",
    "rd.random(), rd.randint(1,6)"
   ]
  },
  {
   "cell_type": "code",
   "execution_count": 7,
   "metadata": {},
   "outputs": [
    {
     "data": {
      "text/plain": [
       "16.77514325909935"
      ]
     },
     "execution_count": 7,
     "metadata": {},
     "output_type": "execute_result"
    }
   ],
   "source": [
    "# start, end까지 실수 반환\n",
    "rd.uniform(11 ,20)"
   ]
  },
  {
   "cell_type": "code",
   "execution_count": 8,
   "metadata": {},
   "outputs": [
    {
     "data": {
      "text/plain": [
       "(9, 2)"
      ]
     },
     "execution_count": 8,
     "metadata": {},
     "output_type": "execute_result"
    }
   ],
   "source": [
    "# range() 범위에서 하나의 수\n",
    "rd.randrange(10), rd.randrange(1,7)"
   ]
  },
  {
   "cell_type": "code",
   "execution_count": 9,
   "metadata": {},
   "outputs": [
    {
     "data": {
      "text/plain": [
       "(2, [2, 4, 3])"
      ]
     },
     "execution_count": 9,
     "metadata": {},
     "output_type": "execute_result"
    }
   ],
   "source": [
    "a = [1,2,3,4,5]\n",
    "rd.choice(a), rd.sample(a,3)"
   ]
  },
  {
   "cell_type": "code",
   "execution_count": 11,
   "metadata": {},
   "outputs": [
    {
     "data": {
      "text/plain": [
       "[1, 3, 5, 4, 2]"
      ]
     },
     "execution_count": 11,
     "metadata": {},
     "output_type": "execute_result"
    }
   ],
   "source": [
    "rd.shuffle(a)\n",
    "a"
   ]
  },
  {
   "cell_type": "markdown",
   "metadata": {},
   "source": [
    "- os 모듈"
   ]
  },
  {
   "cell_type": "code",
   "execution_count": 12,
   "metadata": {},
   "outputs": [
    {
     "data": {
      "text/plain": [
       "'nt'"
      ]
     },
     "execution_count": 12,
     "metadata": {},
     "output_type": "execute_result"
    }
   ],
   "source": [
    "import os\n",
    "os.name"
   ]
  },
  {
   "cell_type": "code",
   "execution_count": 13,
   "metadata": {},
   "outputs": [
    {
     "data": {
      "text/plain": [
       "'d:\\\\WorkSpace\\\\01.Python\\\\07.모듈'"
      ]
     },
     "execution_count": 13,
     "metadata": {},
     "output_type": "execute_result"
    }
   ],
   "source": [
    "# 현재 워킹 디렉토리(Current Working Directory)\n",
    "os.getcwd()"
   ]
  },
  {
   "cell_type": "code",
   "execution_count": 14,
   "metadata": {},
   "outputs": [
    {
     "data": {
      "text/plain": [
       "['01.표준모듈.ipynb']"
      ]
     },
     "execution_count": 14,
     "metadata": {},
     "output_type": "execute_result"
    }
   ],
   "source": [
    "# 현재 디렉토리에 있는 파일과 디렉토리 요소\n",
    "os.listdir()"
   ]
  },
  {
   "cell_type": "code",
   "execution_count": 19,
   "metadata": {},
   "outputs": [
    {
     "data": {
      "text/plain": [
       "['01.표준모듈.ipynb', 'test']"
      ]
     },
     "execution_count": 19,
     "metadata": {},
     "output_type": "execute_result"
    }
   ],
   "source": [
    "# 현 디렉토리에 test 디렉토리가 없으면 생성\n",
    "dir_name = 'test'\n",
    "if not os.path.exists(dir_name):\n",
    "    os.mkdir(dir_name)\n",
    "os.listdir()"
   ]
  },
  {
   "cell_type": "code",
   "execution_count": 20,
   "metadata": {},
   "outputs": [
    {
     "data": {
      "text/plain": [
       "['01.표준모듈.ipynb']"
      ]
     },
     "execution_count": 20,
     "metadata": {},
     "output_type": "execute_result"
    }
   ],
   "source": [
    "# 디렉토리 삭제\n",
    "if os.path.exists(dir_name):\n",
    "    os.rmdir(dir_name)\n",
    "os.listdir()"
   ]
  },
  {
   "cell_type": "code",
   "execution_count": 22,
   "metadata": {},
   "outputs": [
    {
     "name": "stdout",
     "output_type": "stream",
     "text": [
      "c:\\Users\\human\\anaconda3\n",
      "C:\\Users\\human\\anaconda3\n",
      "C:\\Users\\human\\anaconda3\\Library\\mingw-w64\\bin\n",
      "C:\\Users\\human\\anaconda3\\Library\\usr\\bin\n",
      "C:\\Users\\human\\anaconda3\\Library\\bin\n",
      "C:\\Users\\human\\anaconda3\\Scripts\n",
      "C:\\Users\\human\\anaconda3\\bin\n",
      "C:\\Users\\human\\anaconda3\\condabin\n",
      "C:\\Program Files (x86)\\Common Files\\Oracle\\Java\\javapath\n",
      "C:\\oraclexe\\app\\oracle\\product\\11.2.0\\server\\bin\n",
      "C:\\Program Files\\Java\\jdk-1.8.0_202\\bin\n",
      "C:\\WINDOWS\\system32\n",
      "C:\\WINDOWS\n",
      "C:\\WINDOWS\\System32\\Wbem\n",
      "C:\\WINDOWS\\System32\\WindowsPowerShell\\v1.0\n",
      "C:\\WINDOWS\\System32\\OpenSSH\n",
      "C:\\Program Files\\Bandizip\n",
      "C:\\Program Files\\Java\\jdk1.8.0_202\\bin\n",
      "C:\\Program Files\\Git\\cmd\n",
      "C:\\Users\\human\\anaconda3\n",
      "C:\\Users\\human\\anaconda3\\Library\\mingw-w64\\bin\n",
      "C:\\Users\\human\\anaconda3\\Library\\usr\\bin\n",
      "C:\\Users\\human\\anaconda3\\Library\\bin\n",
      "C:\\Users\\human\\anaconda3\\Scripts\n",
      "C:\\Users\\human\\AppData\\Local\\Programs\\Python\\Python311\\Scripts\n",
      "C:\\Users\\human\\AppData\\Local\\Programs\\Python\\Python311\n",
      "C:\\Users\\human\\AppData\\Local\\Microsoft\\WindowsApps\n",
      "C:\\Users\\human\\AppData\\Local\\Programs\\Microsoft VS Code\\bin\n"
     ]
    }
   ],
   "source": [
    "# 경로상에 있는 PATH 확인\n",
    "paths = os.environ['PATH']\n",
    "for path in paths.split(';'):\n",
    "    print(path)"
   ]
  },
  {
   "cell_type": "code",
   "execution_count": 24,
   "metadata": {},
   "outputs": [
    {
     "name": "stdout",
     "output_type": "stream",
     "text": [
      "\n",
      "Path : C:/Temp\n",
      "\n",
      "\n",
      " file : error.log\n",
      "\n",
      "33206\n",
      "3096224744422791\n",
      "506552450\n",
      "1\n",
      "0\n",
      "0\n",
      "1210\n",
      "Fri Sep  1 08:44:33 2023\n",
      "Fri Sep  1 08:44:33 2023\n",
      "Thu Jul 13 15:39:25 2023\n",
      "\n",
      " file : filename\n",
      "\n",
      "33206\n",
      "18577348462936682\n",
      "506552450\n",
      "1\n",
      "0\n",
      "0\n",
      "2275\n",
      "Mon Aug 14 15:57:20 2023\n",
      "Mon Aug 14 15:57:20 2023\n",
      "Mon Aug 14 15:55:41 2023\n",
      "\n",
      " file : Hello.class\n",
      "\n",
      "33206\n",
      "3377699721095720\n",
      "506552450\n",
      "1\n",
      "0\n",
      "0\n",
      "416\n",
      "Tue Jun 20 16:52:16 2023\n",
      "Tue Jun 20 17:50:27 2023\n",
      "Tue Jun 20 16:48:25 2023\n",
      "\n",
      " file : Hello.java\n",
      "\n",
      "33206\n",
      "2814749767112384\n",
      "506552450\n",
      "1\n",
      "0\n",
      "0\n",
      "108\n",
      "Tue Jun 20 16:52:10 2023\n",
      "Tue Jun 20 17:50:27 2023\n",
      "Tue Jun 20 16:37:49 2023\n"
     ]
    }
   ],
   "source": [
    "import time\n",
    "from tkinter import filedialog\n",
    "def b(c):\n",
    "    (mode, ino, dev, nlink, uid, gid, size, atime, mtime, ctime)=os.stat(c)\n",
    "    print(mode)\n",
    "    print(ino)\n",
    "    print(dev)\n",
    "    print(nlink)\n",
    "    print(uid)\n",
    "    print(gid)\n",
    "    print(size)\n",
    "    modifiedTime = time.ctime(mtime)\n",
    "    accessTime = time.ctime(atime)\n",
    "    createdTime = time.ctime(ctime)\n",
    "    print(modifiedTime)\n",
    "    print(accessTime)\n",
    "    print(createdTime)\n",
    "a = filedialog.askdirectory()\n",
    "for (path, dirs, files) in os.walk(a):\n",
    "    print (\"\\nPath : \"+path+\"\\n\")\n",
    "    for file in files:\n",
    "        print(\"\\n file : \"+file+\"\\n\")\n",
    "        c = os.path.join(path, file)\n",
    "        b(c)\n"
   ]
  }
 ],
 "metadata": {
  "kernelspec": {
   "display_name": "base",
   "language": "python",
   "name": "python3"
  },
  "language_info": {
   "codemirror_mode": {
    "name": "ipython",
    "version": 3
   },
   "file_extension": ".py",
   "mimetype": "text/x-python",
   "name": "python",
   "nbconvert_exporter": "python",
   "pygments_lexer": "ipython3",
   "version": "3.11.4"
  },
  "orig_nbformat": 4
 },
 "nbformat": 4,
 "nbformat_minor": 2
}
