{
 "cells": [
  {
   "cell_type": "code",
   "execution_count": null,
   "metadata": {},
   "outputs": [],
   "source": [
    "#14681\n",
    "x = int(input())\n",
    "y = int(input())\n",
    "\n",
    "if -1000 <= x <0 and -1000 <= y <0 :\n",
    "    print(3)\n",
    "if 1000 >= x >0 and -1000 <= y <0:\n",
    "    print(4)\n",
    "if  1000 >= x >0 and 1000 >= y>0:\n",
    "    print(1)\n",
    "if -1000 <= x <0 and 1000 >= y >0:\n",
    "    print(2)"
   ]
  },
  {
   "cell_type": "code",
   "execution_count": 2,
   "metadata": {},
   "outputs": [
    {
     "name": "stdout",
     "output_type": "stream",
     "text": [
      "(1.2,-3.4 : Qaudrant 4)\n"
     ]
    }
   ],
   "source": [
    "#선생님 답\n",
    "x, y = map(float,input('두개의 실수를 입력>').split())\n",
    "if x > 0. and y > 0.:\n",
    "    print(f'({x},{y} : Qaudrant 1)')\n",
    "elif x < 0. and y > 0.:\n",
    "    print(f'({x},{y} : Qaudrant 2)')\n",
    "elif x < 0. and y < 0.:\n",
    "    print(f'({x},{y} : Qaudrant 3)')\n",
    "elif x > 0. and y < 0.:\n",
    "    print(f'({x},{y} : Qaudrant 4)')\n",
    "else:\n",
    "    print('잘못된 좌표')\n"
   ]
  },
  {
   "cell_type": "code",
   "execution_count": null,
   "metadata": {},
   "outputs": [],
   "source": [
    "#2480\n",
    "dice1, dice2, dice3=map(int,input().split())\n",
    "#a = dice1 == dice2 == dice3 #3개가 동일할때\n",
    "#b = dice1 == dice2 or dice2 == dice3 or dice1 == dice3 #2개가 동일할때\n",
    "num = dice1 == dice2 == dice3\n",
    "max_num =\n",
    "if dice1 == dice2 == dice3:\n",
    "    10000+(num)*1000\n",
    "elif dice1 == dice2 or dice2 == dice3 or dice1 == dice3:\n",
    "    1000+(num)*100\n",
    "else:\n",
    "    (max_num)*100\n"
   ]
  },
  {
   "cell_type": "code",
   "execution_count": 16,
   "metadata": {},
   "outputs": [
    {
     "name": "stdout",
     "output_type": "stream",
     "text": [
      "500\n"
     ]
    }
   ],
   "source": [
    "#선생님답\n",
    "dice1, dice2, dice3 = map(int,input().split())\n",
    "if dice1 == dice2 == dice3:\n",
    "    prize = 10000 + dice1 * 1000\n",
    "elif dice1 == dice2 or dice1 == dice3:\n",
    "    prize = 1000 + dice1 * 100\n",
    "elif dice2 == dice3:\n",
    "    prize = 1000 + dice2 * 100\n",
    "else:\n",
    "    max_val = max([dice1, dice2, dice3])\n",
    "    prize =max_val * 100\n",
    "print(prize)"
   ]
  },
  {
   "cell_type": "code",
   "execution_count": 17,
   "metadata": {},
   "outputs": [
    {
     "name": "stdout",
     "output_type": "stream",
     "text": [
      "5\n"
     ]
    }
   ],
   "source": [
    "# 세개의 값에서 최대값을 찾는 문제\n",
    "a, b, c = 3, 5, 2\n",
    "if a > b and a > c:\n",
    "    print(a)\n",
    "if b > a and b > c:\n",
    "    print(b)\n",
    "if c > a and c > b:\n",
    "    print(c)"
   ]
  },
  {
   "cell_type": "code",
   "execution_count": null,
   "metadata": {},
   "outputs": [],
   "source": [
    "#2525\n",
    "h, m = map(int(input())).split()\n",
    "\n",
    "if h "
   ]
  },
  {
   "cell_type": "code",
   "execution_count": null,
   "metadata": {},
   "outputs": [],
   "source": [
    "#2884 - 선생님답\n",
    "hour, minute = map(int, input('시 분 입력>').split())\n",
    "if minute >= 45:\n",
    "    new_hour = hour\n",
    "    new_minute = minute - 45\n",
    "else:\n",
    "    if hour == 0:\n",
    "        new_hour = 23\n",
    "    else:\n",
    "        new_hour = hour - 1\n",
    "    new_minute = minute + 60 - 45\n",
    "print(f'{new_hour:02d}:{new_minute:02d}')"
   ]
  },
  {
   "cell_type": "code",
   "execution_count": 6,
   "metadata": {},
   "outputs": [
    {
     "name": "stdout",
     "output_type": "stream",
     "text": [
      "23:45\n"
     ]
    }
   ],
   "source": [
    "hour, minute = map(int, input('시 분 입력>').split())\n",
    "if minute >= 45:\n",
    "    new_hour = hour\n",
    "    new_minute = minute - 45\n",
    "else:\n",
    "    new_hour = (hour + 24 - 1) % 24\n",
    "    new_minute = minute + 60 - 45\n",
    "print(f'{new_hour:02d}:{new_minute:02d}')"
   ]
  },
  {
   "cell_type": "code",
   "execution_count": 11,
   "metadata": {},
   "outputs": [
    {
     "name": "stdout",
     "output_type": "stream",
     "text": [
      "21:30\n"
     ]
    }
   ],
   "source": [
    "#2525 -선생님답\n",
    "hour, minute , cook_time = map(int, input('시 분 조리시간 입력>').split())\n",
    "cook_hour, cook_minute = divmod(cook_time, 60)      #cook_time // 60, cook_time % 60\n",
    "if minute + cook_minute >= 60:\n",
    "    new_hour = (hour + cook_hour + 1) % 24\n",
    "    new_minute = minute + cook_minute -60\n",
    "else:\n",
    "    new_hour = (hour + cook_hour) % 24\n",
    "    new_minute = minute + cook_minute\n",
    "print(f'{new_hour:02d}:{new_minute:02d}')\n"
   ]
  },
  {
   "cell_type": "code",
   "execution_count": null,
   "metadata": {},
   "outputs": [],
   "source": [
    "new_hour, new_minute = ((hour*60 + minute + cook_time)// 60)%24, (hour*60 + minute + cook_time) %60\n",
    "print(f'{new_hour:02d}:{new_minute:02d}')"
   ]
  }
 ],
 "metadata": {
  "kernelspec": {
   "display_name": "base",
   "language": "python",
   "name": "python3"
  },
  "language_info": {
   "codemirror_mode": {
    "name": "ipython",
    "version": 3
   },
   "file_extension": ".py",
   "mimetype": "text/x-python",
   "name": "python",
   "nbconvert_exporter": "python",
   "pygments_lexer": "ipython3",
   "version": "3.11.4"
  },
  "orig_nbformat": 4
 },
 "nbformat": 4,
 "nbformat_minor": 2
}
