{
 "cells": [
  {
   "cell_type": "code",
   "execution_count": 27,
   "metadata": {},
   "outputs": [
    {
     "name": "stdout",
     "output_type": "stream",
     "text": [
      "2360 3776 1416 181720\n"
     ]
    }
   ],
   "source": [
    "#2588\n",
    "a = int(input())\n",
    "b = input()\n",
    "c = a*int(b[2])\n",
    "d=a*int(b[1])\n",
    "e=a*int(b[0])\n",
    "f=a*int(b)\n",
    "print(c,d,e,f)"
   ]
  },
  {
   "cell_type": "code",
   "execution_count": 6,
   "metadata": {},
   "outputs": [
    {
     "name": "stdout",
     "output_type": "stream",
     "text": [
      "3: 2360\n",
      "4: 3776\n",
      "5: 1416\n",
      "6: 181720\n"
     ]
    }
   ],
   "source": [
    "# 선생님답\n",
    "m, n = map(int, input().split())\n",
    "print(f'3: {m * ((n //1) % 10)}')       # ==>1의 자리 (n // 10 ** 0) % 10\n",
    "print(f'4: {m * ((n //10) % 10)}')      # ==> 10의 자리  (n // 10 ** 1) % 10\n",
    "print(f'5: {m * ((n //100) % 10)}')     # ==> 100의 자리 (n // 10 ** 2) % 10\n",
    "print(f'6: {m * n}')"
   ]
  },
  {
   "cell_type": "code",
   "execution_count": 39,
   "metadata": {},
   "outputs": [
    {
     "name": "stdout",
     "output_type": "stream",
     "text": [
      "No\n"
     ]
    }
   ],
   "source": [
    "#25304\n",
    "x = int(input()) #영수증에 적힌 총금액\n",
    "n = int(input()) #영수증에 적힌 구매 물건 갯수\n",
    "sum = 0\n",
    "\n",
    "for i in range(n):\n",
    "    a, b = map(int,input().split()) #각 물건의 가격 a, 갯수 b\n",
    "    sum += a*b\n",
    "\n",
    "if x == sum:\n",
    "    print('Yes')\n",
    "else:\n",
    "    print('No')"
   ]
  },
  {
   "cell_type": "code",
   "execution_count": null,
   "metadata": {},
   "outputs": [],
   "source": [
    "# 선생님 답\n",
    "x = int(input())\n",
    "n = int(input())\n",
    "rec = []\n",
    "\n",
    "for i in range(n):\n",
    "    a, b = map(int,input().split()) \n",
    "    rec.append(a,b)\n",
    "\n",
    "sum = 0\n",
    "for a, b in rec:\n",
    "        sum += a*b"
   ]
  },
  {
   "cell_type": "code",
   "execution_count": 83,
   "metadata": {},
   "outputs": [
    {
     "name": "stdout",
     "output_type": "stream",
     "text": [
      "85\n",
      "8\n"
     ]
    }
   ],
   "source": [
    "#2562\n",
    "a = [int(input()) for i in range(9)]    #9번을 반복해서 입력받기!\n",
    "max_val = 0\n",
    "for i in a:\n",
    "    if i > max_val:\n",
    "        max_val = i\n",
    "print(max_val)\n",
    "print(a.index(max(a))+1)"
   ]
  },
  {
   "cell_type": "code",
   "execution_count": 8,
   "metadata": {},
   "outputs": [
    {
     "name": "stdout",
     "output_type": "stream",
     "text": [
      "index=7, 8번째 값, 85\n"
     ]
    }
   ],
   "source": [
    "c = [3, 29, 38, 12, 57, 74, 40, 85, 61]\n",
    "cmax, cindex = -1, -1\n",
    "for index, element in enumerate(c):\n",
    "    if cmax < element:\n",
    "        cmax = element\n",
    "        cindex = index\n",
    "print(f'index={cindex}, {cindex+1}번째 값, {cmax}')"
   ]
  },
  {
   "cell_type": "code",
   "execution_count": 166,
   "metadata": {},
   "outputs": [
    {
     "name": "stdout",
     "output_type": "stream",
     "text": [
      "AAABBBCCC\n",
      "/////HHHHHTTTTTPPPPP\n"
     ]
    }
   ],
   "source": [
    "#2675\n",
    "\n",
    "t = int(input())\n",
    "for i in range(t):\n",
    "    r, s = input().split()\n",
    "    for k in s:     \n",
    "        print(k*int(r), end='')\n",
    "    print()"
   ]
  },
  {
   "cell_type": "code",
   "execution_count": 9,
   "metadata": {},
   "outputs": [
    {
     "name": "stdout",
     "output_type": "stream",
     "text": [
      "[['3', 'ABC'], ['5', '/HTP']]\n",
      "AAABBBCCC\n",
      "/////HHHHHTTTTTPPPPP\n"
     ]
    }
   ],
   "source": [
    "#선생님 답\n",
    "t = int(input())\n",
    "test_case = []\n",
    "for _ in range(t):\n",
    "    cmd = input().split()\n",
    "    test_case.append(cmd)\n",
    "print(test_case)\n",
    "\n",
    "for R, S in test_case:\n",
    "    result =''\n",
    "    r = int(R)\n",
    "    for s in S:\n",
    "        result += s * r\n",
    "    print(result)"
   ]
  },
  {
   "cell_type": "code",
   "execution_count": 105,
   "metadata": {},
   "outputs": [
    {
     "name": "stdout",
     "output_type": "stream",
     "text": [
      "1 0 -1 -1 2 -1 -1 -1 -1 4 3 -1 -1 7 5 -1 -1 -1 -1 -1 -1 -1 -1 -1 -1 -1 "
     ]
    }
   ],
   "source": [
    "#10809\n",
    "a = input()\n",
    "alpha =('abcdefghijklmnopqrstuvwxyz')\n",
    "for i in alpha:\n",
    "    print(a.find(i), end=' ')"
   ]
  },
  {
   "cell_type": "code",
   "execution_count": null,
   "metadata": {},
   "outputs": [],
   "source": [
    "# 선생님 답\n",
    "chr(ord('a')+1) # ==> b가 나옴"
   ]
  },
  {
   "cell_type": "code",
   "execution_count": 11,
   "metadata": {},
   "outputs": [
    {
     "name": "stdout",
     "output_type": "stream",
     "text": [
      "{'a': -1, 'b': -1, 'c': -1, 'd': -1, 'e': -1, 'f': -1, 'g': -1, 'h': -1, 'i': -1, 'j': -1, 'k': -1, 'l': -1, 'm': -1, 'n': -1, 'o': -1, 'p': -1, 'q': -1, 'r': -1, 's': -1, 't': -1, 'u': -1, 'v': -1, 'w': -1, 'x': -1, 'y': -1, 'z': -1}\n"
     ]
    }
   ],
   "source": [
    "char_dic = {}\n",
    "for i in range (26):     #알파벳 26자\n",
    "    c = chr(ord('a')+i)    #알파벳 26자가 나옴\n",
    "    char_dic[c] = -1\n",
    "print(char_dic)"
   ]
  },
  {
   "cell_type": "code",
   "execution_count": 12,
   "metadata": {},
   "outputs": [
    {
     "name": "stdout",
     "output_type": "stream",
     "text": [
      "1 0 -1 -1 2 -1 -1 -1 -1 4 3 -1 -1 7 5 -1 -1 -1 -1 -1 -1 -1 -1 -1 -1 -1 "
     ]
    }
   ],
   "source": [
    "word = 'baekjoon'\n",
    "for i in range (26):\n",
    "    c = chr(ord('a')+i)\n",
    "    print(word.find(c), end=' ')        #a~z 까지 있는지 없는지 유무를 확인, 있으면 숫자, 없으면 -1"
   ]
  },
  {
   "cell_type": "code",
   "execution_count": 14,
   "metadata": {},
   "outputs": [
    {
     "name": "stdout",
     "output_type": "stream",
     "text": [
      "{'a': 0, 'b': 8, 'c': 5, 'd': -1, 'e': -1, 'f': 14, 'g': -1, 'h': -1, 'i': 4, 'j': -1, 'k': 6, 'l': -1, 'm': -1, 'n': 12, 'o': 10, 'p': -1, 'q': 2, 'r': 9, 's': -1, 't': -1, 'u': 3, 'v': -1, 'w': 11, 'x': 16, 'y': -1, 'z': -1}\n"
     ]
    }
   ],
   "source": [
    "char_dic = {}\n",
    "word = 'a quick brown fox'\n",
    "for i in range (26):\n",
    "    c = chr(ord('a')+i)\n",
    "    char_dic[c] = word.find(c)      #find()는 찾는 문자열이 없으면 -1을 리턴함\n",
    "print(char_dic)"
   ]
  },
  {
   "cell_type": "code",
   "execution_count": null,
   "metadata": {},
   "outputs": [],
   "source": [
    "#세희 답\n",
    "s =  input()\n",
    "a = 'abcdefghijklmnopqrstuvwxyz'\n",
    "for i in a:\n",
    "    if i in s:\n",
    "        print(s.index(i), end= ' ')  #=> s의 인덱스값을 \n",
    "    else:\n",
    "        print(-1, end= ' ')"
   ]
  },
  {
   "cell_type": "code",
   "execution_count": 125,
   "metadata": {},
   "outputs": [
    {
     "name": "stdout",
     "output_type": "stream",
     "text": [
      "938\n"
     ]
    }
   ],
   "source": [
    "#2908\n",
    "a, b = input().split()\n",
    "a = int(a[::-1])\n",
    "b = int(b[::-1])\n",
    "if a > b:\n",
    "    print(a)\n",
    "else:\n",
    "    print(b)"
   ]
  },
  {
   "cell_type": "code",
   "execution_count": 15,
   "metadata": {},
   "outputs": [
    {
     "name": "stdout",
     "output_type": "stream",
     "text": [
      "734, 893: 437\n",
      "221, 231: 132\n",
      "839, 237: 938\n"
     ]
    }
   ],
   "source": [
    "#선생님 답\n",
    "for i in range(3):\n",
    "    m, n = input().split()\n",
    "    m_, n_ = int(m[::-1]), int(n[::-1])\n",
    "    max_val = m_ if m_ >= n_ else n_\n",
    "    print(f'{m}, {n}: {max_val}')"
   ]
  },
  {
   "cell_type": "code",
   "execution_count": 157,
   "metadata": {},
   "outputs": [
    {
     "name": "stdout",
     "output_type": "stream",
     "text": [
      "-1 0 0 1 0 7 "
     ]
    }
   ],
   "source": [
    "#3003\n",
    "c = [1, 1, 2, 2, 2, 8]\n",
    "a = list(map(int,input().split()))\n",
    "for i in range(len(c)):\n",
    "    print(c[i]-a[i], end=' ')\n"
   ]
  },
  {
   "cell_type": "code",
   "execution_count": 16,
   "metadata": {},
   "outputs": [
    {
     "name": "stdout",
     "output_type": "stream",
     "text": [
      "-1 1 -2 1 -1 3 "
     ]
    }
   ],
   "source": [
    "# 선생님 답\n",
    "# king, queen, rook, bishop, knight, pawn\n",
    "cp = [1, 1, 2, 2, 2, 8]\n",
    "p = list(map(int,input().split()))\n",
    "for i in range(len(cp)):\n",
    "    print(cp[i] - p[i], end=' ')"
   ]
  },
  {
   "cell_type": "code",
   "execution_count": 140,
   "metadata": {},
   "outputs": [
    {
     "name": "stdout",
     "output_type": "stream",
     "text": [
      "    *\n",
      "   ***\n",
      "  *****\n",
      " *******\n",
      "*********\n",
      " *******\n",
      "  *****\n",
      "   ***\n",
      "    *\n"
     ]
    }
   ],
   "source": [
    "#2444\n",
    "n = int(input())\n",
    "for i in range(1,n):\n",
    "    print(' '*(n-i)+'*'*(i*2-1))\n",
    "for i in range(n,0,-1):     #위, 중간, 아래\n",
    "    print(' '*(n-i)+'*'*(i*2-1))\n"
   ]
  },
  {
   "cell_type": "code",
   "execution_count": 20,
   "metadata": {},
   "outputs": [
    {
     "name": "stdout",
     "output_type": "stream",
     "text": [
      "    *\n",
      "   ***\n",
      "  *****\n",
      " *******\n",
      "*********\n",
      " *******\n",
      "  *****\n",
      "   ***\n",
      "    *\n"
     ]
    }
   ],
   "source": [
    "# 선생님 답\n",
    "n = 5\n",
    "for i in range(n):\n",
    "    line = ' ' * (n-i-1) + '*'*(2*i+1)\n",
    "    print(line)\n",
    "for i in range(1,n):\n",
    "    line = ' ' * i  + '*'*(2*(n-i)-1)\n",
    "    print(line)"
   ]
  },
  {
   "cell_type": "code",
   "execution_count": 149,
   "metadata": {},
   "outputs": [
    {
     "ename": "NameError",
     "evalue": "name 'count' is not defined",
     "output_type": "error",
     "traceback": [
      "\u001b[1;31m---------------------------------------------------------------------------\u001b[0m",
      "\u001b[1;31mNameError\u001b[0m                                 Traceback (most recent call last)",
      "Cell \u001b[1;32mIn[149], line 4\u001b[0m\n\u001b[0;32m      2\u001b[0m s \u001b[39m=\u001b[39m \u001b[39mlist\u001b[39m(\u001b[39minput\u001b[39m())\n\u001b[0;32m      3\u001b[0m \u001b[39m#d = {str:i for i, str in enumerate(s)}\u001b[39;00m\n\u001b[1;32m----> 4\u001b[0m count(s)\n\u001b[0;32m      5\u001b[0m s\u001b[39m.\u001b[39msort(reverse\u001b[39m=\u001b[39m\u001b[39mTrue\u001b[39;00m)\n\u001b[0;32m      6\u001b[0m s\n",
      "\u001b[1;31mNameError\u001b[0m: name 'count' is not defined"
     ]
    }
   ],
   "source": [
    "#1157       ==check\n",
    "s = list(input())\n",
    "#d = {str:i for i, str in enumerate(s)}\n",
    "\n",
    "s.sort(reverse=True)\n",
    "s"
   ]
  },
  {
   "cell_type": "code",
   "execution_count": 25,
   "metadata": {},
   "outputs": [
    {
     "name": "stdout",
     "output_type": "stream",
     "text": [
      "{'a': 2, 'b': 1, 'c': 1, 'd': 1, 'e': 2, 'f': 1, 'g': 1, 'h': 1, 'i': 1, 'j': 1, 'k': 1, 'l': 1, 'm': 1, 'n': 1, 'o': 4, 'p': 1, 'q': 1, 'r': 2, 's': 1, 't': 1, 'u': 2, 'v': 1, 'w': 1, 'x': 1, 'y': 1, 'z': 1}\n"
     ]
    },
    {
     "data": {
      "text/plain": [
       "[('o', 4), ('a', 2), ('e', 2), ('r', 2)]"
      ]
     },
     "execution_count": 25,
     "metadata": {},
     "output_type": "execute_result"
    }
   ],
   "source": [
    "#선생님 답\n",
    "al_dic = {}\n",
    "s = 'A quick brown fox jumps over the lazy dog'\n",
    "for i in range(26):\n",
    "    c = chr(ord('a') + i)\n",
    "    al_dic[c] = s.lower().count(c)\n",
    "print(al_dic)\n",
    "al_items = list(al_dic.items())\n",
    "al_items.sort(key=lambda x: x[1], reverse=True)\n",
    "al_items[:4]        #가장많이 사용된 단어"
   ]
  },
  {
   "cell_type": "code",
   "execution_count": 27,
   "metadata": {},
   "outputs": [
    {
     "name": "stdout",
     "output_type": "stream",
     "text": [
      "4 4 4 \n",
      "6 6 6 \n",
      "5 6 100 \n"
     ]
    }
   ],
   "source": [
    "#2738, 선생님 답\n",
    "a = [[1,1,1],[2,2,2],[0,1,0]]\n",
    "b = [[3,3,3],[4,4,4],[5,5,100]]\n",
    "c = []\n",
    "for i in range(len(a)):\n",
    "    temp = []\n",
    "    for k in range(len(a[i])):\n",
    "        temp.append(a[i][k] + b[i][k])\n",
    "    c.append(temp)\n",
    "\n",
    "for i in range(len(c)):\n",
    "    for k in range(len(c[i])):\n",
    "        print(c[i][k], end=' ')\n",
    "    print()       "
   ]
  },
  {
   "cell_type": "code",
   "execution_count": 28,
   "metadata": {},
   "outputs": [
    {
     "name": "stdout",
     "output_type": "stream",
     "text": [
      "4 4 4 \n",
      "6 6 6 \n",
      "5 6 100 \n"
     ]
    }
   ],
   "source": [
    "c = [[0,0,0],[0,0,0],[0,0,0]]       #이미 규격이 정해져있으면, 아예 0으로 초기화\n",
    "for i in range(len(a)):\n",
    "    for k in range(len(a[i])):\n",
    "        c[i][k]=a[i][k] + b[i][k]\n",
    "\n",
    "for i in range(len(c)):\n",
    "    for k in range(len(c[i])):\n",
    "        print(c[i][k], end=' ')\n",
    "    print()     "
   ]
  },
  {
   "cell_type": "markdown",
   "metadata": {},
   "source": [
    "- Numpy를 사용해야 하는 이유"
   ]
  },
  {
   "cell_type": "code",
   "execution_count": 29,
   "metadata": {},
   "outputs": [
    {
     "name": "stdout",
     "output_type": "stream",
     "text": [
      "[[1 1 1]\n",
      " [2 2 2]\n",
      " [0 1 0]]\n"
     ]
    }
   ],
   "source": [
    "import numpy as np              #numpy 사용!\n",
    "a = np.array([[1,1,1],[2,2,2],[0,1,0]])\n",
    "print(a)"
   ]
  },
  {
   "cell_type": "code",
   "execution_count": 30,
   "metadata": {},
   "outputs": [
    {
     "name": "stdout",
     "output_type": "stream",
     "text": [
      "[[  3   3   3]\n",
      " [  4   4   4]\n",
      " [  5   5 100]]\n"
     ]
    }
   ],
   "source": [
    "b= np.array([[3,3,3],[4,4,4],[5,5,100]])\n",
    "print(b)"
   ]
  },
  {
   "cell_type": "code",
   "execution_count": 31,
   "metadata": {},
   "outputs": [
    {
     "name": "stdout",
     "output_type": "stream",
     "text": [
      "[[  4   4   4]\n",
      " [  6   6   6]\n",
      " [  5   6 100]]\n"
     ]
    }
   ],
   "source": [
    "# 벡터화 연산\n",
    "c = a+b\n",
    "print(c)"
   ]
  }
 ],
 "metadata": {
  "kernelspec": {
   "display_name": "base",
   "language": "python",
   "name": "python3"
  },
  "language_info": {
   "codemirror_mode": {
    "name": "ipython",
    "version": 3
   },
   "file_extension": ".py",
   "mimetype": "text/x-python",
   "name": "python",
   "nbconvert_exporter": "python",
   "pygments_lexer": "ipython3",
   "version": "3.11.4"
  },
  "orig_nbformat": 4
 },
 "nbformat": 4,
 "nbformat_minor": 2
}
