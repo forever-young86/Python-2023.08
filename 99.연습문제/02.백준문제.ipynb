{
 "cells": [
  {
   "cell_type": "code",
   "execution_count": 27,
   "metadata": {},
   "outputs": [
    {
     "name": "stdout",
     "output_type": "stream",
     "text": [
      "2360 3776 1416 181720\n"
     ]
    }
   ],
   "source": [
    "#2588\n",
    "a = int(input())\n",
    "b = input()\n",
    "c = a*int(b[2])\n",
    "d=a*int(b[1])\n",
    "e=a*int(b[0])\n",
    "f=a*int(b)\n",
    "print(c,d,e,f)"
   ]
  },
  {
   "cell_type": "code",
   "execution_count": 39,
   "metadata": {},
   "outputs": [
    {
     "name": "stdout",
     "output_type": "stream",
     "text": [
      "No\n"
     ]
    }
   ],
   "source": [
    "#25304\n",
    "x = int(input()) #영수증에 적힌 총금액\n",
    "n = int(input()) #영수증에 적힌 구매 물건 갯수\n",
    "sum = 0\n",
    "\n",
    "for i in range(n):\n",
    "    a, b = map(int,input().split()) #각 물건의 가격 a, 갯수 b\n",
    "    sum += a*b\n",
    "\n",
    "if x == sum:\n",
    "    print('Yes')\n",
    "else:\n",
    "    print('No')"
   ]
  },
  {
   "cell_type": "code",
   "execution_count": 83,
   "metadata": {},
   "outputs": [
    {
     "name": "stdout",
     "output_type": "stream",
     "text": [
      "85\n",
      "8\n"
     ]
    }
   ],
   "source": [
    "#2562\n",
    "a = [int(input()) for i in range(9)]    #9번을 반복해서 입력받기!\n",
    "max_val = 0\n",
    "for i in a:\n",
    "    if i > max_val:\n",
    "        max_val = i\n",
    "print(max_val)\n",
    "print(a.index(max(a))+1)"
   ]
  },
  {
   "cell_type": "code",
   "execution_count": 166,
   "metadata": {},
   "outputs": [
    {
     "name": "stdout",
     "output_type": "stream",
     "text": [
      "AAABBBCCC\n",
      "/////HHHHHTTTTTPPPPP\n"
     ]
    }
   ],
   "source": [
    "#2675\n",
    "\n",
    "t = int(input())\n",
    "for i in range(t):\n",
    "    r, s = input().split()\n",
    "    for k in s:     \n",
    "        print(k*int(r), end='')\n",
    "    print()"
   ]
  },
  {
   "cell_type": "code",
   "execution_count": 105,
   "metadata": {},
   "outputs": [
    {
     "name": "stdout",
     "output_type": "stream",
     "text": [
      "1 0 -1 -1 2 -1 -1 -1 -1 4 3 -1 -1 7 5 -1 -1 -1 -1 -1 -1 -1 -1 -1 -1 -1 "
     ]
    }
   ],
   "source": [
    "#10809\n",
    "a = input()\n",
    "alpha =('abcdefghijklmnopqrstuvwxyz')\n",
    "for i in alpha:\n",
    "    print(a.find(i), end=' ')"
   ]
  },
  {
   "cell_type": "code",
   "execution_count": 125,
   "metadata": {},
   "outputs": [
    {
     "name": "stdout",
     "output_type": "stream",
     "text": [
      "938\n"
     ]
    }
   ],
   "source": [
    "#2908\n",
    "a, b = input().split()\n",
    "a = int(a[::-1])\n",
    "b = int(b[::-1])\n",
    "if a > b:\n",
    "    print(a)\n",
    "else:\n",
    "    print(b)"
   ]
  },
  {
   "cell_type": "code",
   "execution_count": 157,
   "metadata": {},
   "outputs": [
    {
     "name": "stdout",
     "output_type": "stream",
     "text": [
      "-1 0 0 1 0 7 "
     ]
    }
   ],
   "source": [
    "#3003\n",
    "c = [1, 1, 2, 2, 2, 8]\n",
    "a = list(map(int,input().split()))\n",
    "for i in range(len(c)):\n",
    "    print(c[i]-a[i], end=' ')\n"
   ]
  },
  {
   "cell_type": "code",
   "execution_count": 140,
   "metadata": {},
   "outputs": [
    {
     "name": "stdout",
     "output_type": "stream",
     "text": [
      "    *\n",
      "   ***\n",
      "  *****\n",
      " *******\n",
      "*********\n",
      " *******\n",
      "  *****\n",
      "   ***\n",
      "    *\n"
     ]
    }
   ],
   "source": [
    "#2444\n",
    "n = int(input())\n",
    "for i in range(1,n):\n",
    "    print(' '*(n-i)+'*'*(i*2-1))\n",
    "for i in range(n,0,-1):     #위, 중간, 아래\n",
    "    print(' '*(n-i)+'*'*(i*2-1))\n"
   ]
  },
  {
   "cell_type": "code",
   "execution_count": 149,
   "metadata": {},
   "outputs": [
    {
     "ename": "NameError",
     "evalue": "name 'count' is not defined",
     "output_type": "error",
     "traceback": [
      "\u001b[1;31m---------------------------------------------------------------------------\u001b[0m",
      "\u001b[1;31mNameError\u001b[0m                                 Traceback (most recent call last)",
      "Cell \u001b[1;32mIn[149], line 4\u001b[0m\n\u001b[0;32m      2\u001b[0m s \u001b[39m=\u001b[39m \u001b[39mlist\u001b[39m(\u001b[39minput\u001b[39m())\n\u001b[0;32m      3\u001b[0m \u001b[39m#d = {str:i for i, str in enumerate(s)}\u001b[39;00m\n\u001b[1;32m----> 4\u001b[0m count(s)\n\u001b[0;32m      5\u001b[0m s\u001b[39m.\u001b[39msort(reverse\u001b[39m=\u001b[39m\u001b[39mTrue\u001b[39;00m)\n\u001b[0;32m      6\u001b[0m s\n",
      "\u001b[1;31mNameError\u001b[0m: name 'count' is not defined"
     ]
    }
   ],
   "source": [
    "#1157       ==check\n",
    "s = list(input())\n",
    "#d = {str:i for i, str in enumerate(s)}\n",
    "\n",
    "s.sort(reverse=True)\n",
    "s"
   ]
  },
  {
   "cell_type": "code",
   "execution_count": null,
   "metadata": {},
   "outputs": [],
   "source": [
    "#2738       ==check\n"
   ]
  }
 ],
 "metadata": {
  "kernelspec": {
   "display_name": "base",
   "language": "python",
   "name": "python3"
  },
  "language_info": {
   "codemirror_mode": {
    "name": "ipython",
    "version": 3
   },
   "file_extension": ".py",
   "mimetype": "text/x-python",
   "name": "python",
   "nbconvert_exporter": "python",
   "pygments_lexer": "ipython3",
   "version": "3.11.4"
  },
  "orig_nbformat": 4
 },
 "nbformat": 4,
 "nbformat_minor": 2
}
