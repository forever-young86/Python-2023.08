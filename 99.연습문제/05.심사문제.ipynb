{
 "cells": [
  {
   "cell_type": "code",
   "execution_count": 7,
   "metadata": {},
   "outputs": [
    {
     "name": "stdout",
     "output_type": "stream",
     "text": [
      "dictator\n",
      "subjects\n",
      "change\n",
      "costume\n",
      "elegance\n",
      "accepted\n"
     ]
    }
   ],
   "source": [
    "#27\n",
    "with open('data/words.txt', 'r') as file:\n",
    "    contents = file.read()\n",
    "import string\n",
    "string.punctuation\n",
    "import re\n",
    "clean_contents = re.sub('[' + string.punctuation +']','', contents).lower()\n",
    "\n",
    "words = clean_contents.split()\n",
    "\n",
    "for word in words:\n",
    "   if 'c' in word:\n",
    "    print(word)"
   ]
  },
  {
   "cell_type": "code",
   "execution_count": 46,
   "metadata": {},
   "outputs": [
    {
     "name": "stdout",
     "output_type": "stream",
     "text": [
      "level\n"
     ]
    }
   ],
   "source": [
    "#38\n",
    "word = input()\n",
    "def palindrome(word):\n",
    "    return word == word [::-1]\n",
    "\n",
    "if palindrome(word):\n",
    "    print(word)\n",
    "else:\n",
    "    print('회문이 아닙니다.')"
   ]
  },
  {
   "cell_type": "code",
   "execution_count": 57,
   "metadata": {},
   "outputs": [
    {
     "ename": "NameError",
     "evalue": "name 'NotPalindromeError' is not defined",
     "output_type": "error",
     "traceback": [
      "\u001b[1;31m---------------------------------------------------------------------------\u001b[0m",
      "\u001b[1;31mNameError\u001b[0m                                 Traceback (most recent call last)",
      "Cell \u001b[1;32mIn[57], line 8\u001b[0m\n\u001b[0;32m      7\u001b[0m     word \u001b[39m=\u001b[39m \u001b[39minput\u001b[39m()\n\u001b[1;32m----> 8\u001b[0m     palindrome(word)\n\u001b[0;32m      9\u001b[0m \u001b[39mexcept\u001b[39;00m NotPalindromeError \u001b[39mas\u001b[39;00m e:\n",
      "Cell \u001b[1;32mIn[57], line 4\u001b[0m, in \u001b[0;36mpalindrome\u001b[1;34m(word)\u001b[0m\n\u001b[0;32m      3\u001b[0m \u001b[39mif\u001b[39;00m word \u001b[39m!=\u001b[39m word [::\u001b[39m-\u001b[39m\u001b[39m1\u001b[39m]:\n\u001b[1;32m----> 4\u001b[0m     \u001b[39mraise\u001b[39;00m NotPalindromeError\n\u001b[0;32m      5\u001b[0m \u001b[39mprint\u001b[39m(word)\n",
      "\u001b[1;31mNameError\u001b[0m: name 'NotPalindromeError' is not defined",
      "\nDuring handling of the above exception, another exception occurred:\n",
      "\u001b[1;31mNameError\u001b[0m                                 Traceback (most recent call last)",
      "Cell \u001b[1;32mIn[57], line 9\u001b[0m\n\u001b[0;32m      7\u001b[0m     word \u001b[39m=\u001b[39m \u001b[39minput\u001b[39m()\n\u001b[0;32m      8\u001b[0m     palindrome(word)\n\u001b[1;32m----> 9\u001b[0m \u001b[39mexcept\u001b[39;00m NotPalindromeError \u001b[39mas\u001b[39;00m e:\n\u001b[0;32m     10\u001b[0m     \u001b[39mprint\u001b[39m(\u001b[39m'\u001b[39m\u001b[39m회문이 아닙니다.\u001b[39m\u001b[39m'\u001b[39m,e)\n",
      "\u001b[1;31mNameError\u001b[0m: name 'NotPalindromeError' is not defined"
     ]
    }
   ],
   "source": [
    "#38\n",
    "def palindrome(word):\n",
    "    return word == word [::-1]\n",
    "try:\n",
    "    word = input()\n",
    "    if palindrome(word):\n",
    "        print(word)\n",
    "    else:\n",
    "        print('회문이 아닙니다.')\n",
    "except NotPalindromeError as e:\n",
    "    print(e)"
   ]
  }
 ],
 "metadata": {
  "kernelspec": {
   "display_name": "base",
   "language": "python",
   "name": "python3"
  },
  "language_info": {
   "codemirror_mode": {
    "name": "ipython",
    "version": 3
   },
   "file_extension": ".py",
   "mimetype": "text/x-python",
   "name": "python",
   "nbconvert_exporter": "python",
   "pygments_lexer": "ipython3",
   "version": "3.11.4"
  },
  "orig_nbformat": 4
 },
 "nbformat": 4,
 "nbformat_minor": 2
}
