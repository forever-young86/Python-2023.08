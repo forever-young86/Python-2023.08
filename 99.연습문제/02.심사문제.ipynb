{
 "cells": [
  {
   "cell_type": "code",
   "execution_count": 8,
   "metadata": {},
   "outputs": [
    {
     "name": "stdout",
     "output_type": "stream",
     "text": [
      "(-10, -7, -4, -1, 2, 5, 8)\n"
     ]
    }
   ],
   "source": [
    "#10\n",
    "a = tuple(range(-10, 10, int(input())))\n",
    "print(a)"
   ]
  },
  {
   "cell_type": "code",
   "execution_count": null,
   "metadata": {},
   "outputs": [],
   "source": [
    "#선생님 답\n",
    "inc = int (input())\n",
    "t = tuple(range(-1,10,inc))\n",
    "print(t)"
   ]
  },
  {
   "cell_type": "code",
   "execution_count": 14,
   "metadata": {},
   "outputs": [
    {
     "name": "stdout",
     "output_type": "stream",
     "text": [
      "('oven', 'bat', 'pony', 'total', 'leak', 'wreck', 'curl')\n"
     ]
    }
   ],
   "source": [
    "#11.8\n",
    "x = input().split()\n",
    "del x[:-6:-1]\n",
    "print(tuple(x))"
   ]
  },
  {
   "cell_type": "code",
   "execution_count": null,
   "metadata": {},
   "outputs": [],
   "source": [
    "#선생님 답\n",
    "x = input().split()\n",
    "del x[-5::]         #del x[len(x)-5:]\n",
    "print(tuple(x))"
   ]
  },
  {
   "cell_type": "code",
   "execution_count": 37,
   "metadata": {},
   "outputs": [
    {
     "name": "stdout",
     "output_type": "stream",
     "text": [
      "yhnpto\n"
     ]
    }
   ],
   "source": [
    "#11.9\n",
    "a = input()[1::2]\n",
    "b = input()[::2]\n",
    "print(a+b)\n",
    "\n"
   ]
  },
  {
   "cell_type": "code",
   "execution_count": null,
   "metadata": {},
   "outputs": [],
   "source": [
    "#선생님 답\n",
    "a = input()\n",
    "b = input()\n",
    "print(a[1::2] + b[::2])"
   ]
  },
  {
   "cell_type": "code",
   "execution_count": 8,
   "metadata": {},
   "outputs": [
    {
     "name": "stdout",
     "output_type": "stream",
     "text": [
      "{'health': 575.6, 'health_regen': 1.7, 'mana': 338.8, 'mana_regen': 1.63}\n"
     ]
    }
   ],
   "source": [
    "#12\n",
    "a = list(input().split())\n",
    "b = list(map(float, input().split()))\n",
    "print(dict(zip(a,b)))"
   ]
  },
  {
   "cell_type": "code",
   "execution_count": null,
   "metadata": {},
   "outputs": [],
   "source": [
    "#선생님 답\n",
    "a = input().split()\n",
    "b = list(map(float,input().split()))\n",
    "d = dict(zip(a,b))          # zip : a, b 의 각 요소를 하나씩 꺼내와 튜플('a',0) 쌍으로 만들어줌\n",
    "print(d)                    # zip은 안보인다. 그래서 리스트나, 딕셔너리처럼 앞에 써서 사용한다"
   ]
  },
  {
   "cell_type": "code",
   "execution_count": null,
   "metadata": {},
   "outputs": [],
   "source": [
    "list(zip(a,b))"
   ]
  },
  {
   "cell_type": "code",
   "execution_count": 95,
   "metadata": {},
   "outputs": [
    {
     "name": "stdout",
     "output_type": "stream",
     "text": [
      "7 * 1 = 7\n",
      "7 * 2 = 14\n",
      "7 * 3 = 21\n",
      "7 * 4 = 28\n",
      "7 * 5 = 35\n",
      "7 * 6 = 42\n",
      "7 * 7 = 49\n",
      "7 * 8 = 56\n",
      "7 * 9 = 63\n"
     ]
    }
   ],
   "source": [
    "#16\n",
    "a = int(input())\n",
    "for i in range(1,10,1):\n",
    "    print(a, '*', i, '=', (a*i))"
   ]
  },
  {
   "cell_type": "code",
   "execution_count": 174,
   "metadata": {},
   "outputs": [
    {
     "name": "stdout",
     "output_type": "stream",
     "text": [
      "Fizz\n",
      "36\n",
      "37\n",
      "38\n",
      "39\n",
      "Fizz\n"
     ]
    }
   ],
   "source": [
    "#20\n",
    "a,b = map(int,input().split())\n",
    "for i in range(a, b+1):\n",
    "    if i % 5 == 0:\n",
    "        print('Fizz')\n",
    "    elif i % 7 == 0:\n",
    "            print('Buzz')\n",
    "    elif i % 5 == 0 and i % 7 == 0:\n",
    "        print('FizzBuzz')\n",
    "    else:\n",
    "        print(i)"
   ]
  },
  {
   "cell_type": "code",
   "execution_count": null,
   "metadata": {},
   "outputs": [],
   "source": [
    "#선생님 답\n",
    "a, b = map(int,input().split())\n",
    "for i in range(a, b+1):\n",
    "    print('Fizz')*(i%5==0) + 'Buzz'*(i%7==0) or i, end=' ') #5,7의 배수면 Fizz도 되고 Buzz도 되어 'FizzBuzz'출력\n",
    "    #앞에 두 조건이 F 가 되면 or 뒤를 실행한다."
   ]
  },
  {
   "cell_type": "code",
   "execution_count": null,
   "metadata": {},
   "outputs": [],
   "source": [
    "#선생님 답 2\n",
    "num = 15\n",
    "if num % 35 == 0:\n",
    "    print(num, 'FizzBuzz')\n",
    "elif num % 5 == 0:\n",
    "    print(num, 'Fizz')\n",
    "elif num % 7 == 0:\n",
    "    print(num, 'Buzz')\n",
    "else:\n",
    "    print(num)"
   ]
  },
  {
   "cell_type": "code",
   "execution_count": 57,
   "metadata": {},
   "outputs": [
    {
     "name": "stdout",
     "output_type": "stream",
     "text": [
      "[1024, 4096, 8192, 16384, 32768, 65536, 131072, 262144, 1048576]\n"
     ]
    }
   ],
   "source": [
    "#22\n",
    "a,b =map(int,input().split())\n",
    "c = []\n",
    "for i in range (a, b+1):\n",
    "    c.append(2 ** i)\n",
    "del c [1]\n",
    "del c [-2]\n",
    "print(c)"
   ]
  },
  {
   "cell_type": "code",
   "execution_count": null,
   "metadata": {},
   "outputs": [],
   "source": [
    "#선생님 답\n",
    "a,b =map(int,input().split())\n",
    "if 1 <= a <= 20 and 10 <= b <= 30 and a < b:\n",
    "    c = []\n",
    "    for i in range (a,b+1):\n",
    "        c.append(2 ** i)\n",
    "    del c[1], c[-2]\n",
    "    print(c)"
   ]
  }
 ],
 "metadata": {
  "kernelspec": {
   "display_name": "base",
   "language": "python",
   "name": "python3"
  },
  "language_info": {
   "codemirror_mode": {
    "name": "ipython",
    "version": 3
   },
   "file_extension": ".py",
   "mimetype": "text/x-python",
   "name": "python",
   "nbconvert_exporter": "python",
   "pygments_lexer": "ipython3",
   "version": "3.11.4"
  },
  "orig_nbformat": 4
 },
 "nbformat": 4,
 "nbformat_minor": 2
}
