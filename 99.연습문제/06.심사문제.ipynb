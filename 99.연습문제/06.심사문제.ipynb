{
 "cells": [
  {
   "cell_type": "code",
   "execution_count": 6,
   "metadata": {},
   "outputs": [
    {
     "name": "stdout",
     "output_type": "stream",
     "text": [
      "19.634954084936208\n"
     ]
    }
   ],
   "source": [
    "#44\n",
    "import math\n",
    "radius= float(input())\n",
    "print(float(radius * radius* math.pi))"
   ]
  },
  {
   "cell_type": "code",
   "execution_count": 18,
   "metadata": {},
   "outputs": [
    {
     "name": "stdout",
     "output_type": "stream",
     "text": [
      "1.4142135623730951\n",
      "12.566370614359172\n"
     ]
    }
   ],
   "source": [
    "#45\n",
    "import calcpkg.geometry\n",
    "import calcpkg.operation\n",
    "\n",
    "n = int(input())\n",
    "print(calcpkg.operation.squareroot(n))\n",
    "print(calcpkg.geometry.circle_area(n))"
   ]
  },
  {
   "cell_type": "code",
   "execution_count": 14,
   "metadata": {},
   "outputs": [
    {
     "name": "stdout",
     "output_type": "stream",
     "text": [
      "티버: 피해량 819.25\n"
     ]
    }
   ],
   "source": [
    "#34\n",
    "class Annie:\n",
    "    def __init__(self, health, mana, ability_power):\n",
    "        self.health = health\n",
    "        self.mana = mana\n",
    "        self.ability_power = ability_power\n",
    "    def tibbers(self):\n",
    "        self.tibbers = self.ability_power * 0.65 + 400\n",
    "        print(f'티버: 피해량 {self.tibbers}')\n",
    "\n",
    "health, mana, ability_power = map(float, input().split())\n",
    " \n",
    "x = Annie(health=health, mana=mana, ability_power=ability_power)\n",
    "x.tibbers()"
   ]
  },
  {
   "cell_type": "code",
   "execution_count": 64,
   "metadata": {},
   "outputs": [],
   "source": [
    "#class Account (계좌)만들기\n",
    "class Account:\n",
    "    def __init__(self, ano, owner, balance):\n",
    "        self.ano = ano\n",
    "        self.owner = owner\n",
    "        self.balance = balance\n",
    "    \n",
    "    def deposit(self,amount):\n",
    "        if self.balance + amount < 10000000:\n",
    "            self.balance += amount\n",
    "            print(f'잔액은{self.balance}입니다.')\n",
    "        else:\n",
    "            print('잔액은 10,000,000원을 초과할수 없습니다.')\n",
    "\n",
    "    def withdraw(self,amount):\n",
    "        if self.balance > amount:\n",
    "            self.balance -= amount\n",
    "            print(f'잔액은{self.balance}입니다.')\n",
    "        else:\n",
    "            print('잔액은 마이너스 금액이 될 수 없습니다.')\n",
    "    \n",
    "    def __str__(self):\n",
    "        return f'계좌번호:{self.ano}, 소유주:{self.owner}, 잔액:{self.balance:10,d}'"
   ]
  },
  {
   "cell_type": "code",
   "execution_count": 68,
   "metadata": {},
   "outputs": [
    {
     "name": "stdout",
     "output_type": "stream",
     "text": [
      "잔액은 마이너스 금액이 될 수 없습니다.\n",
      "계좌번호:123456789, 소유주:young, 잔액: 9,000,000\n"
     ]
    }
   ],
   "source": [
    "a = Account(123456789,'young', 9000000)\n",
    "a.deposit(1100000)\n",
    "a.withdraw(100000000)\n",
    "print(a)"
   ]
  },
  {
   "cell_type": "code",
   "execution_count": 1,
   "metadata": {},
   "outputs": [
    {
     "name": "stdout",
     "output_type": "stream",
     "text": [
      "계좌번호: 2300906, 소유주: 제임스, 잔액:    100,000\n",
      "계좌번호: 2300906, 소유주: 제임스, 잔액:    300,000\n",
      "잔액이 부족합니다.\n",
      "계좌번호: 2300906, 소유주: 제임스, 잔액:     50,000\n"
     ]
    }
   ],
   "source": [
    "# 선생님답\n",
    "class Account:\n",
    "    def __init__(self, ano, owner, balance):\n",
    "        self.ano = ano\n",
    "        self.owner = owner\n",
    "        self.balance = 0\n",
    "        if 0 <= balance <= 10000000:\n",
    "            self.balance = balance\n",
    "    def deposit(self, amount):\n",
    "        if self.balance + amount > 10000000:\n",
    "            print('일천만원이 초과할 수 없습니다.')\n",
    "            return\n",
    "        self.balance += amount\n",
    "    def withdraw(self, amount):\n",
    "        if self.balance < amount:\n",
    "            print('잔액이 부족합니다.')\n",
    "            return\n",
    "        self.balance -= amount\n",
    "    def __str__(self):\n",
    "        return f'계좌번호: {self.ano}, 소유주: {self.owner}, 잔액: {self.balance:10,d}'\n",
    "    \n",
    "if __name__ == '__main__':      #==>프로그램 실행되는지 확인\n",
    "    acc = Account('2300906', '제임스', 100000)\n",
    "    print(acc)\n",
    "    acc.deposit(200000)\n",
    "    print(acc)\n",
    "    acc.withdraw(400000)\n",
    "    acc.withdraw(250000)\n",
    "    print(acc)\n",
    "\n"
   ]
  }
 ],
 "metadata": {
  "kernelspec": {
   "display_name": "base",
   "language": "python",
   "name": "python3"
  },
  "language_info": {
   "codemirror_mode": {
    "name": "ipython",
    "version": 3
   },
   "file_extension": ".py",
   "mimetype": "text/x-python",
   "name": "python",
   "nbconvert_exporter": "python",
   "pygments_lexer": "ipython3",
   "version": "3.11.4"
  },
  "orig_nbformat": 4
 },
 "nbformat": 4,
 "nbformat_minor": 2
}
