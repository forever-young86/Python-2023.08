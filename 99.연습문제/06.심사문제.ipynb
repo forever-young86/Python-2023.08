{
 "cells": [
  {
   "cell_type": "code",
   "execution_count": 6,
   "metadata": {},
   "outputs": [
    {
     "name": "stdout",
     "output_type": "stream",
     "text": [
      "19.634954084936208\n"
     ]
    }
   ],
   "source": [
    "#44\n",
    "import math\n",
    "radius= float(input())\n",
    "print(float(radius * radius* math.pi))"
   ]
  },
  {
   "cell_type": "code",
   "execution_count": 2,
   "metadata": {},
   "outputs": [
    {
     "name": "stdout",
     "output_type": "stream",
     "text": [
      "1.4142135623730951\n",
      "12.566370614359172\n"
     ]
    }
   ],
   "source": [
    "#45\n",
    "import calcpkg\n",
    "a = calcpkg.number_input()\n",
    "print(calcpkg.squareroot(a))\n",
    "print(calcpkg.circle_area(a))"
   ]
  },
  {
   "cell_type": "code",
   "execution_count": 4,
   "metadata": {},
   "outputs": [
    {
     "ename": "AttributeError",
     "evalue": "module 'calcpkg' has no attribute 'geometry'",
     "output_type": "error",
     "traceback": [
      "\u001b[1;31m---------------------------------------------------------------------------\u001b[0m",
      "\u001b[1;31mAttributeError\u001b[0m                            Traceback (most recent call last)",
      "Cell \u001b[1;32mIn[4], line 4\u001b[0m\n\u001b[0;32m      2\u001b[0m \u001b[39mimport\u001b[39;00m \u001b[39mcalcpkg\u001b[39;00m\n\u001b[0;32m      3\u001b[0m a \u001b[39m=\u001b[39m \u001b[39mint\u001b[39m(\u001b[39minput\u001b[39m())\n\u001b[1;32m----> 4\u001b[0m \u001b[39mprint\u001b[39m(calcpkg\u001b[39m.\u001b[39mgeometry\u001b[39m.\u001b[39mcircle_are(a))\n\u001b[0;32m      5\u001b[0m \u001b[39mprint\u001b[39m(calcpkg\u001b[39m.\u001b[39moperation\u001b[39m.\u001b[39msquareroot(a))\n",
      "\u001b[1;31mAttributeError\u001b[0m: module 'calcpkg' has no attribute 'geometry'"
     ]
    }
   ],
   "source": [
    "#45\n",
    "import calcpkg.gemetry\n",
    "\n",
    "a = int(input())\n",
    "print(calcpkg.geometry.circle_are(a))\n",
    "print(calcpkg.operation.squareroot(a))"
   ]
  },
  {
   "cell_type": "markdown",
   "metadata": {},
   "source": []
  }
 ],
 "metadata": {
  "kernelspec": {
   "display_name": "base",
   "language": "python",
   "name": "python3"
  },
  "language_info": {
   "codemirror_mode": {
    "name": "ipython",
    "version": 3
   },
   "file_extension": ".py",
   "mimetype": "text/x-python",
   "name": "python",
   "nbconvert_exporter": "python",
   "pygments_lexer": "ipython3",
   "version": "3.11.4"
  },
  "orig_nbformat": 4
 },
 "nbformat": 4,
 "nbformat_minor": 2
}
