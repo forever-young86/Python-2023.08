{
 "cells": [
  {
   "cell_type": "code",
   "execution_count": 23,
   "metadata": {},
   "outputs": [
    {
     "name": "stdout",
     "output_type": "stream",
     "text": [
      "True\n"
     ]
    }
   ],
   "source": [
    "#u8\n",
    "k, e, m, s = list(map(int, input().split()))\n",
    "if k >=90 and e >80 and m >85 and s >=80:\n",
    "    print('True')\n",
    "else:\n",
    "    print('Flase')"
   ]
  },
  {
   "cell_type": "code",
   "execution_count": 20,
   "metadata": {},
   "outputs": [
    {
     "name": "stdout",
     "output_type": "stream",
     "text": [
      "'Python' is a \"programming language\" \n",
      "that lets you work quickly\n",
      "and\n",
      "integrate systems more effectively.\n"
     ]
    }
   ],
   "source": [
    "#9\n",
    "s = \"\"\"'Python' is a \\\"programming language\\\" \n",
    "that lets you work quickly\n",
    "and\n",
    "integrate systems more effectively.\"\"\"\n",
    "print(s)"
   ]
  },
  {
   "cell_type": "code",
   "execution_count": 51,
   "metadata": {},
   "outputs": [],
   "source": [
    "#13\n",
    "p = input()\n",
    "c = input()\n",
    "if c.find('Cash3000') >=0:\n",
    "    print(int(p) - int(3000))\n",
    "if c.find('Cash5000') >=0:\n",
    "    print(int(p) - int(5000))\n"
   ]
  },
  {
   "cell_type": "code",
   "execution_count": 124,
   "metadata": {},
   "outputs": [
    {
     "name": "stdout",
     "output_type": "stream",
     "text": [
      "잘못된 점수\n"
     ]
    }
   ],
   "source": [
    "#14\n",
    "k, e, m, s = map(int,input().split())\n",
    "if 0 < k <= 100 and 0 < e <= 100 and 0 < m <= 100 and 0 < s <=100:\n",
    "    if (k + e + m + s )/ 4 >=80:\n",
    "        print('합격')\n",
    "    else:\n",
    "        print('불합격')\n",
    "else:\n",
    "    print('잘못된 점수')"
   ]
  },
  {
   "cell_type": "code",
   "execution_count": null,
   "metadata": {},
   "outputs": [],
   "source": [
    "# list를 사용해서 개선된 코드\n",
    "scores = list (map(int,input().split()))\n",
    "if min(scores) < 0 or max(scores) > 100:\n",
    "    print('잘못된 점수')\n",
    "else:\n",
    "    avg = sum(scores) / len(scores)\n",
    "    if avg >=80:\n",
    "        print('합격')\n",
    "    else:\n",
    "        print('불합격')"
   ]
  },
  {
   "cell_type": "code",
   "execution_count": 131,
   "metadata": {},
   "outputs": [
    {
     "name": "stdout",
     "output_type": "stream",
     "text": [
      "8350\n"
     ]
    }
   ],
   "source": [
    "#15\n",
    "age = int (input())\n",
    "balance = 9000 #교통카드 잔액\n",
    "if 7 <= age <= 12: \n",
    "    print(balance - 650)\n",
    "elif 13<= age <= 18:\n",
    "    print(balance - 1050)\n",
    "else:\n",
    "    print(balance - 1250)\n"
   ]
  }
 ],
 "metadata": {
  "kernelspec": {
   "display_name": "base",
   "language": "python",
   "name": "python3"
  },
  "language_info": {
   "codemirror_mode": {
    "name": "ipython",
    "version": 3
   },
   "file_extension": ".py",
   "mimetype": "text/x-python",
   "name": "python",
   "nbconvert_exporter": "python",
   "pygments_lexer": "ipython3",
   "version": "3.11.4"
  },
  "orig_nbformat": 4
 },
 "nbformat": 4,
 "nbformat_minor": 2
}
