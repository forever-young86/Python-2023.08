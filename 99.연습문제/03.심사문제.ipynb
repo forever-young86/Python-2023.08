{
 "cells": [
  {
   "cell_type": "code",
   "execution_count": 13,
   "metadata": {},
   "outputs": [
    {
     "name": "stdout",
     "output_type": "stream",
     "text": [
      "8650\n",
      "7300\n",
      "5950\n",
      "4600\n",
      "3250\n",
      "1900\n",
      "550\n"
     ]
    }
   ],
   "source": [
    "#17\n",
    "money = int(input())\n",
    "fare = 1350\n",
    "while money > fare:\n",
    "    money -= fare\n",
    "    print(money)"
   ]
  },
  {
   "cell_type": "code",
   "execution_count": 19,
   "metadata": {},
   "outputs": [
    {
     "name": "stdout",
     "output_type": "stream",
     "text": [
      "21 22 24 25 26 27 28 29 30 31 32 "
     ]
    }
   ],
   "source": [
    "#18\n",
    "start, stop = map(int, input().split())\n",
    "i = start\n",
    "while True:\n",
    "    if i % 10 == 3:\n",
    "        i +=1\n",
    "        continue\n",
    "    if i > stop:\n",
    "        break\n",
    "    print(i, end=' ')\n",
    "    i += 1"
   ]
  },
  {
   "cell_type": "code",
   "execution_count": null,
   "metadata": {},
   "outputs": [],
   "source": [
    "#선생님 다른 답\n",
    "start, stop = map(int, input().split())\n",
    "for i in range(start,stop+1)\n",
    "    if i % 10 == 3:\n",
    "        continue\n",
    "    print(i, end='')"
   ]
  },
  {
   "cell_type": "code",
   "execution_count": 59,
   "metadata": {},
   "outputs": [
    {
     "name": "stdout",
     "output_type": "stream",
     "text": [
      "*\n",
      "**\n",
      "***\n",
      "****\n",
      "*****\n"
     ]
    }
   ],
   "source": [
    "#19     ==check\n",
    "a = int(input())\n",
    "for i in range(a):\n",
    "    for k in range(a):\n",
    "        if k > i:\n",
    "            print('', end='')\n",
    "        else:\n",
    "            print('*', end='')\n",
    "    print()"
   ]
  },
  {
   "cell_type": "code",
   "execution_count": 8,
   "metadata": {},
   "outputs": [
    {
     "name": "stdout",
     "output_type": "stream",
     "text": [
      "    *\n",
      "   ***\n",
      "  *****\n",
      " *******\n",
      "*********\n"
     ]
    }
   ],
   "source": [
    "# 선생님 답\n",
    "height = int (input())\n",
    "for i in range(1, height +1):\n",
    "    print(' ' * (height - i), end='')   #blank값 계산 (height - i)\n",
    "    print('*' * (2*i-1))        #별의 갯수(2*i-1)"
   ]
  },
  {
   "cell_type": "code",
   "execution_count": 10,
   "metadata": {},
   "outputs": [],
   "source": [
    "#23 선생님 답\n",
    "def print_mines(m):\n",
    "    for row in m :\n",
    "        for element in row:\n",
    "            print(element, end='')\n",
    "        print()"
   ]
  },
  {
   "cell_type": "code",
   "execution_count": 19,
   "metadata": {},
   "outputs": [
    {
     "name": "stdout",
     "output_type": "stream",
     "text": [
      "**..*...\n",
      "**...**.\n",
      ".**..***\n",
      ".*....*.\n",
      "*....*..\n",
      "*****...\n"
     ]
    }
   ],
   "source": [
    "import random\n",
    "row, col = map(int, input().split())\n",
    "mines = [['*' if random.random() > 0.7 else '.' for _ in range(col)] for _ in range(row)]\n",
    "print_mines(mines)"
   ]
  },
  {
   "cell_type": "code",
   "execution_count": 20,
   "metadata": {},
   "outputs": [
    {
     "name": "stdout",
     "output_type": "stream",
     "text": [
      "..........\n",
      ".**..*....\n",
      ".**...**..\n",
      "..**..***.\n",
      "..*....*..\n",
      ".*....*...\n",
      ".*****....\n",
      "..........\n"
     ]
    }
   ],
   "source": [
    "pad_mines = [['.'] * (col +2)]      #맨 윗줄\n",
    "for mine_row in mines:\n",
    "    pad_row = ['.']\n",
    "    pad_row.extend(mine_row)\n",
    "    pad_row.append('.')\n",
    "    pad_mines.append(pad_row)\n",
    "pad_mines.append(['.'] * (col +2))\n",
    "print_mines(pad_mines)"
   ]
  },
  {
   "cell_type": "code",
   "execution_count": 21,
   "metadata": {},
   "outputs": [
    {
     "name": "stdout",
     "output_type": "stream",
     "text": [
      "**21*321\n",
      "**423**3\n",
      "4**12***\n",
      "3*3124*3\n",
      "*5433*21\n",
      "*****210\n"
     ]
    }
   ],
   "source": [
    "final_mines = []\n",
    "for i in range(1, row+1):\n",
    "    line = []\n",
    "    for k in range (1, col+1):\n",
    "        if pad_mines[i][k] == '*':\n",
    "            line.append('*')\n",
    "        else:\n",
    "            count = (pad_mines[i-1] [k-1] =='*') + (pad_mines[i-1][k]=='*') + (pad_mines[i-1][k+1]=='*') + (pad_mines[i][k-1]=='*')                             + (pad_mines[i][k+1]=='*') + (pad_mines[i+1][k-1]=='*') + (pad_mines[i+1][k]=='*') +(pad_mines[i+1][k+1]=='*')\n",
    "                    \n",
    "            line.append(str(count))\n",
    "    final_mines.append(line)\n",
    "\n",
    "print_mines(final_mines)\n"
   ]
  },
  {
   "cell_type": "code",
   "execution_count": null,
   "metadata": {},
   "outputs": [],
   "source": [
    "#24.5       == check!\n",
    "str = input().split()\n",
    "','.join(str)\n",
    "str\n",
    "#str.count('the')\n"
   ]
  },
  {
   "cell_type": "code",
   "execution_count": 22,
   "metadata": {},
   "outputs": [
    {
     "name": "stdout",
     "output_type": "stream",
     "text": [
      "6\n"
     ]
    }
   ],
   "source": [
    "#선생님 답      리스트 => 구둣점 제거 => 소문자로 변경 => 단어 'the' 비교\n",
    "text =input()\n",
    "text_list = text.split()\n",
    "count_the = 0\n",
    "for word in text_list:\n",
    "    word = word.strip(\" ',.'\").lower()  #strip(\" ',.'\") : ,과.를 지워라\n",
    "    if word == 'the' :\n",
    "        count_the +=1\n",
    "print(count_the)\n"
   ]
  },
  {
   "cell_type": "code",
   "execution_count": null,
   "metadata": {},
   "outputs": [],
   "source": [
    "#24.6 == check!\n",
    "a = list(input().split(';'))\n",
    "a.sort(reverse=True)\n",
    "f'{list:,9d}'.format(list)\n",
    "print(a1)"
   ]
  },
  {
   "cell_type": "code",
   "execution_count": null,
   "metadata": {},
   "outputs": [],
   "source": [
    "#선생님 답\n",
    "\n",
    "print_list = list(map(int, input_str.split(';')))\n",
    "price_list.sort(reverse = True)\n",
    "for price in price_list:\n",
    "    print(f'{price:9,d}')"
   ]
  },
  {
   "cell_type": "code",
   "execution_count": 147,
   "metadata": {},
   "outputs": [
    {
     "name": "stdout",
     "output_type": "stream",
     "text": [
      "{'bravo': 40, 'charlie': 50, 'echo': 70, 'foxtrot': 80, 'golf': 90}\n"
     ]
    }
   ],
   "source": [
    "#25\n",
    "keys = input().split()\n",
    "values = map(int, input().split())\n",
    "x = dict(zip(keys, values))\n",
    "x = {key : value for key, value in x.items() if value!=30}\n",
    "x = {key : value for key, value in x.items() if key!='delta'}\n",
    "print(x)"
   ]
  },
  {
   "cell_type": "code",
   "execution_count": 31,
   "metadata": {},
   "outputs": [
    {
     "data": {
      "text/plain": [
       "{'alpha': 10, 'bravo': 20}"
      ]
     },
     "execution_count": 31,
     "metadata": {},
     "output_type": "execute_result"
    }
   ],
   "source": [
    "#선생님 답\n",
    "#반복문에서 반복 대상이 되는 딕셔너리의 크기를 변경시키는 작업을 하면 에러 발생\n",
    "#하지만 데이터는 삭제됨\n",
    "keys = input().split()\n",
    "values = map(int, input().split())\n",
    "d = dict(zip(keys, values))\n",
    "del d['delta']\n",
    "\n",
    "for key, value in d.items():\n",
    "    if value == 30:\n",
    "        del_key = key\n",
    "if del_key:\n",
    "    del d[del_key]\n",
    "d"
   ]
  },
  {
   "cell_type": "code",
   "execution_count": null,
   "metadata": {},
   "outputs": [],
   "source": [
    "#26     == check\n",
    "a, b = int,input().split()\n",
    "divisor = set(a,b)\n",
    "for i in range (a, a+1):\n",
    "    if a % a == 0:\n",
    "        divisor.append(i)\n",
    "for i in range (b, b+1):\n",
    "    if b % a == 0:\n",
    "        divisor.append(i)\n",
    "    divisor = a & b\n",
    "\n",
    "result = 0\n",
    "if type(divisor) == set:\n",
    "    result = sum(divisor)\n",
    " \n",
    "print(result)"
   ]
  },
  {
   "cell_type": "code",
   "execution_count": 25,
   "metadata": {},
   "outputs": [
    {
     "data": {
      "text/plain": [
       "{1, 2, 5, 10}"
      ]
     },
     "execution_count": 25,
     "metadata": {},
     "output_type": "execute_result"
    }
   ],
   "source": [
    "#선생님 답\n",
    "#약수의 집합\n",
    "div_set = set()\n",
    "x = 10\n",
    "for i in range(1, x+1):\n",
    "    if x % i == 0:\n",
    "        div_set.add(i)\n",
    "div_set"
   ]
  },
  {
   "cell_type": "code",
   "execution_count": 26,
   "metadata": {},
   "outputs": [
    {
     "data": {
      "text/plain": [
       "{1, 2, 5, 10}"
      ]
     },
     "execution_count": 26,
     "metadata": {},
     "output_type": "execute_result"
    }
   ],
   "source": [
    "div_set = {i for i in range (1, x+1) if x % i == 0}\n",
    "div_set"
   ]
  },
  {
   "cell_type": "code",
   "execution_count": 27,
   "metadata": {},
   "outputs": [
    {
     "name": "stdout",
     "output_type": "stream",
     "text": [
      "{1, 2, 3, 4, 6, 12} {1, 2, 4, 5, 10, 20}\n"
     ]
    }
   ],
   "source": [
    "m, n = map(int, input().split())\n",
    "m_set = {i for i in range(1, m+1) if m % i == 0}\n",
    "n_set = {i for i in range(1, n+1) if n % i == 0}\n",
    "print(m_set, n_set)"
   ]
  },
  {
   "cell_type": "code",
   "execution_count": 28,
   "metadata": {},
   "outputs": [
    {
     "data": {
      "text/plain": [
       "{1, 2, 4}"
      ]
     },
     "execution_count": 28,
     "metadata": {},
     "output_type": "execute_result"
    }
   ],
   "source": [
    "common_divisors = m_set & n_set #교집합\n",
    "common_divisors"
   ]
  },
  {
   "cell_type": "code",
   "execution_count": 29,
   "metadata": {},
   "outputs": [
    {
     "data": {
      "text/plain": [
       "7"
      ]
     },
     "execution_count": 29,
     "metadata": {},
     "output_type": "execute_result"
    }
   ],
   "source": [
    "sum(common_divisors)"
   ]
  },
  {
   "cell_type": "code",
   "execution_count": null,
   "metadata": {},
   "outputs": [],
   "source": []
  }
 ],
 "metadata": {
  "kernelspec": {
   "display_name": "base",
   "language": "python",
   "name": "python3"
  },
  "language_info": {
   "codemirror_mode": {
    "name": "ipython",
    "version": 3
   },
   "file_extension": ".py",
   "mimetype": "text/x-python",
   "name": "python",
   "nbconvert_exporter": "python",
   "pygments_lexer": "ipython3",
   "version": "3.11.4"
  },
  "orig_nbformat": 4
 },
 "nbformat": 4,
 "nbformat_minor": 2
}
